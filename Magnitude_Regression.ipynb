{
  "nbformat": 4,
  "nbformat_minor": 0,
  "metadata": {
    "colab": {
      "provenance": [],
      "machine_shape": "hm",
      "mount_file_id": "1XDJ0sR4CT7x5T2XEaiPkZurm10JRbI4U",
      "authorship_tag": "ABX9TyM4ulgq9RJhau/Xwtu4W/fF",
      "include_colab_link": true
    },
    "kernelspec": {
      "name": "python3",
      "display_name": "Python 3"
    },
    "language_info": {
      "name": "python"
    },
    "accelerator": "GPU"
  },
  "cells": [
    {
      "cell_type": "markdown",
      "metadata": {
        "id": "view-in-github",
        "colab_type": "text"
      },
      "source": [
        "<a href=\"https://colab.research.google.com/github/ShawnYu111/CV/blob/main/Magnitude_Regression.ipynb\" target=\"_parent\"><img src=\"https://colab.research.google.com/assets/colab-badge.svg\" alt=\"Open In Colab\"/></a>"
      ]
    },
    {
      "cell_type": "code",
      "execution_count": null,
      "metadata": {
        "id": "qDFBQLQoGXL5"
      },
      "outputs": [],
      "source": [
        "# Installing required libraries\n",
        "!pip install tensorflow==1.13.1\n",
        "#!pip install keras==2.2.4\n",
        "!pip install innvestigate\n",
        "!pip install matplotlib\n",
        "!pip install 'h5py==2.10.0' --force-reinstall"
      ]
    },
    {
      "cell_type": "code",
      "source": [
        "# Import required packages\n",
        "import numpy as np # Version 1.16.0\n",
        "import tensorflow as tf  # Version 1.12.0\n",
        "import pandas as pd\n",
        "import keras # Version 2.2.4\n",
        "from sklearn.metrics import r2_score\n",
        "from sklearn.metrics import mean_squared_error\n",
        "import matplotlib.pyplot as plt\n",
        "import re\n",
        "print(\"tensorflow version:\", tf.__version__)\n",
        "print(\"keras version:\", keras.__version__)"
      ],
      "metadata": {
        "id": "ZTNcBIBHXbT2",
        "colab": {
          "base_uri": "https://localhost:8080/"
        },
        "outputId": "23a1994d-d043-48e7-cfd6-0fe6ac242e5a"
      },
      "execution_count": null,
      "outputs": [
        {
          "output_type": "stream",
          "name": "stderr",
          "text": [
            "/usr/local/lib/python3.7/dist-packages/tensorflow/python/framework/dtypes.py:526: FutureWarning: Passing (type, 1) or '1type' as a synonym of type is deprecated; in a future version of numpy, it will be understood as (type, (1,)) / '(1,)type'.\n",
            "  _np_qint8 = np.dtype([(\"qint8\", np.int8, 1)])\n",
            "/usr/local/lib/python3.7/dist-packages/tensorflow/python/framework/dtypes.py:527: FutureWarning: Passing (type, 1) or '1type' as a synonym of type is deprecated; in a future version of numpy, it will be understood as (type, (1,)) / '(1,)type'.\n",
            "  _np_quint8 = np.dtype([(\"quint8\", np.uint8, 1)])\n",
            "/usr/local/lib/python3.7/dist-packages/tensorflow/python/framework/dtypes.py:528: FutureWarning: Passing (type, 1) or '1type' as a synonym of type is deprecated; in a future version of numpy, it will be understood as (type, (1,)) / '(1,)type'.\n",
            "  _np_qint16 = np.dtype([(\"qint16\", np.int16, 1)])\n",
            "/usr/local/lib/python3.7/dist-packages/tensorflow/python/framework/dtypes.py:529: FutureWarning: Passing (type, 1) or '1type' as a synonym of type is deprecated; in a future version of numpy, it will be understood as (type, (1,)) / '(1,)type'.\n",
            "  _np_quint16 = np.dtype([(\"quint16\", np.uint16, 1)])\n",
            "/usr/local/lib/python3.7/dist-packages/tensorflow/python/framework/dtypes.py:530: FutureWarning: Passing (type, 1) or '1type' as a synonym of type is deprecated; in a future version of numpy, it will be understood as (type, (1,)) / '(1,)type'.\n",
            "  _np_qint32 = np.dtype([(\"qint32\", np.int32, 1)])\n",
            "/usr/local/lib/python3.7/dist-packages/tensorflow/python/framework/dtypes.py:535: FutureWarning: Passing (type, 1) or '1type' as a synonym of type is deprecated; in a future version of numpy, it will be understood as (type, (1,)) / '(1,)type'.\n",
            "  np_resource = np.dtype([(\"resource\", np.ubyte, 1)])\n",
            "Using TensorFlow backend.\n"
          ]
        },
        {
          "output_type": "stream",
          "name": "stdout",
          "text": [
            "tensorflow version: 1.13.1\n",
            "keras version: 2.2.4\n"
          ]
        }
      ]
    },
    {
      "cell_type": "code",
      "source": [
        "#Cu\n",
        "# Load in raw count data for neural network\n",
        "X_train = pd.read_csv(\"/content/drive/MyDrive/Train/Cu/X_train_Cu_magnitude.csv\")\n",
        "\n",
        "# Load in ground truth production rate data\n",
        "y_train = pd.read_csv(\"/content/drive/MyDrive/Train/Cu/y_train_ppb_Cu.csv\")\n",
        "\n",
        "#load test magnitude set data\n",
        "X_test = pd.read_csv(\"/content/drive/MyDrive/Test/Cu/X_test_Cu_magnitude.csv\")\n",
        "\n",
        "#loaf test ppb test data\n",
        "y_test = pd.read_csv(\"/content/drive/MyDrive/Test/Cu/y_test_ppb_Cu.csv\")\n",
        "\n",
        "print(X_train.shape)\n",
        "print(y_train.shape)\n",
        "print(X_test.shape)\n",
        "print(y_test.shape)"
      ],
      "metadata": {
        "colab": {
          "base_uri": "https://localhost:8080/"
        },
        "id": "TCC0QM8dXPN0",
        "outputId": "a05aa71e-9374-42e4-c62e-ccd938284e00"
      },
      "execution_count": null,
      "outputs": [
        {
          "output_type": "stream",
          "name": "stdout",
          "text": [
            "(9000, 2500)\n",
            "(9000, 1)\n",
            "(1200, 2500)\n",
            "(1200, 1)\n"
          ]
        }
      ]
    },
    {
      "cell_type": "code",
      "source": [
        "#Pb\n",
        "# Load in raw count data for neural network\n",
        "X_train = pd.read_csv(\"/content/drive/MyDrive/Train/Pb/X_train_Pb_magnitude.csv\")\n",
        "\n",
        "# Load in ground truth production rate data\n",
        "y_train = pd.read_csv(\"/content/drive/MyDrive/Train/Pb/y_train_ppb_Pb.csv\")\n",
        "\n",
        "#load test magnitude set data\n",
        "X_test = pd.read_csv(\"/content/drive/MyDrive/Test/Pb/X_test_Pb_magnitude.csv\")\n",
        "\n",
        "#loaf test ppb test data\n",
        "y_test = pd.read_csv(\"/content/drive/MyDrive/Test/Pb/y_test_ppb_Pb.csv\")\n",
        "\n",
        "print(X_train.shape)\n",
        "print(y_train.shape)\n",
        "print(X_test.shape)\n",
        "print(y_test.shape)"
      ],
      "metadata": {
        "colab": {
          "base_uri": "https://localhost:8080/"
        },
        "id": "IYTdIkWpRP37",
        "outputId": "6d2dd84d-62af-4555-e448-3647bed22e1c"
      },
      "execution_count": null,
      "outputs": [
        {
          "output_type": "stream",
          "name": "stdout",
          "text": [
            "(9000, 2500)\n",
            "(9000, 1)\n",
            "(1200, 2500)\n",
            "(1200, 1)\n"
          ]
        }
      ]
    },
    {
      "cell_type": "code",
      "source": [
        "#Under 6GHz_Cu_magnitude\n",
        "# Load in raw count data for neural network\n",
        "X_train = pd.read_csv(\"/content/drive/MyDrive/Under_6GHz_Cu_magnitude/X_train.csv\")\n",
        "\n",
        "# Load in ground truth production rate data\n",
        "y_train = pd.read_csv(\"/content/drive/MyDrive/Under_6GHz_Cu_magnitude/y_train.csv\")\n",
        "\n",
        "#load test magnitude set data\n",
        "X_test = pd.read_csv(\"/content/drive/MyDrive/Under_6GHz_Cu_magnitude/X_test.csv\")\n",
        "\n",
        "#loaf test ppb test data\n",
        "y_test = pd.read_csv(\"/content/drive/MyDrive/Under_6GHz_Cu_magnitude/y_test.csv\")\n",
        "\n",
        "print(X_train.shape)\n",
        "print(y_train.shape)\n",
        "print(X_test.shape)\n",
        "print(y_test.shape)"
      ],
      "metadata": {
        "colab": {
          "base_uri": "https://localhost:8080/"
        },
        "id": "n9fNuDUnuXS3",
        "outputId": "3d19be50-04bb-4aa1-c4d4-ab79c7ff1bee"
      },
      "execution_count": null,
      "outputs": [
        {
          "output_type": "stream",
          "name": "stdout",
          "text": [
            "(9000, 1867)\n",
            "(9000, 1)\n",
            "(1200, 1867)\n",
            "(1200, 1)\n"
          ]
        }
      ]
    },
    {
      "cell_type": "code",
      "source": [
        "#Under 6GHz_Pb_magnitude\n",
        "# Load in raw count data for neural network\n",
        "X_train = pd.read_csv(\"/content/drive/MyDrive/Under_6GHz_Pb_magnitude/X_train.csv\")\n",
        "\n",
        "# Load in ground truth production rate data\n",
        "y_train = pd.read_csv(\"/content/drive/MyDrive/Under_6GHz_Pb_magnitude/y_train.csv\")\n",
        "\n",
        "#load test magnitude set data\n",
        "X_test = pd.read_csv(\"/content/drive/MyDrive/Under_6GHz_Pb_magnitude/X_test.csv\")\n",
        "\n",
        "#loaf test ppb test data\n",
        "y_test = pd.read_csv(\"/content/drive/MyDrive/Under_6GHz_Pb_magnitude/y_test.csv\")\n",
        "\n",
        "print(X_train.shape)\n",
        "print(y_train.shape)\n",
        "print(X_test.shape)\n",
        "print(y_test.shape)"
      ],
      "metadata": {
        "colab": {
          "base_uri": "https://localhost:8080/"
        },
        "id": "GcGT4Q556ep2",
        "outputId": "e1670f45-afb1-4131-bcf8-0303b1d09a65"
      },
      "execution_count": null,
      "outputs": [
        {
          "output_type": "stream",
          "name": "stdout",
          "text": [
            "(9000, 1867)\n",
            "(9000, 1)\n",
            "(1200, 1867)\n",
            "(1200, 1)\n"
          ]
        }
      ]
    },
    {
      "cell_type": "code",
      "source": [
        "############################################################################"
      ],
      "metadata": {
        "id": "0D3Y8ErQisTT"
      },
      "execution_count": null,
      "outputs": []
    },
    {
      "cell_type": "code",
      "source": [
        "# create ANN model\n",
        "model = keras.models.Sequential()\n",
        "\n",
        "# Defining the Input layer and hidden layer\n",
        "model.add(keras.layers.Dense(units=512, input_dim=X_train.shape[1], kernel_initializer='normal', activation='relu'))\n",
        "model.add(keras.layers.Dense(units=256, kernel_initializer='normal', activation='relu'))\n",
        "#model.add(keras.layers.Dropout(0.25))\n",
        "\n",
        "# The output neuron is a single fully connected node\n",
        "# Since we will be predicting a single number\n",
        "model.add(keras.layers.Dense(1, kernel_initializer='normal'))\n",
        "\n",
        "# Compiling the model\n",
        "model.compile(loss='mean_squared_error', optimizer='adam')\n",
        ""
      ],
      "metadata": {
        "id": "T-6ZjJH1fBXK"
      },
      "execution_count": null,
      "outputs": []
    },
    {
      "cell_type": "code",
      "source": [
        "# Fitting the ANN to the Training set\n",
        "history = model.fit(X_train, y_train ,batch_size=32, epochs=120, verbose=1)"
      ],
      "metadata": {
        "id": "EiuVLloOeyGq"
      },
      "execution_count": null,
      "outputs": []
    },
    {
      "cell_type": "code",
      "source": [
        "# create CNN model\n",
        "model = keras.models.Sequential()\n",
        "model.add(keras.layers.Conv1D(filters=128, kernel_size=3, activation='relu', input_shape=(X_train.shape[1], 1)))\n",
        "model.add(keras.layers.MaxPooling1D(pool_size=2))\n",
        "\n",
        "model.add(keras.layers.Conv1D(filters=128, kernel_size=3, activation='relu'))\n",
        "model.add(keras.layers.MaxPooling1D(pool_size=2))\n",
        "\n",
        "model.add(keras.layers.Conv1D(filters=64, kernel_size=3, activation='relu'))\n",
        "model.add(keras.layers.MaxPooling1D(pool_size=2))\n",
        "model.add(keras.layers.Dropout(0.2))\n",
        "\n",
        "model.add(keras.layers.Flatten())\n",
        "\n",
        "model.add(keras.layers.Dense(1, activation=\"relu\"))\n",
        "model.compile(loss=\"mse\", optimizer= keras.optimizers.Adam(lr=0.001))\n"
      ],
      "metadata": {
        "id": "a38wdsOASJA8",
        "colab": {
          "base_uri": "https://localhost:8080/"
        },
        "outputId": "c8e84396-49d7-42cd-ce89-6deacc6d9dbc"
      },
      "execution_count": null,
      "outputs": [
        {
          "output_type": "stream",
          "name": "stdout",
          "text": [
            "WARNING:tensorflow:From /usr/local/lib/python3.7/dist-packages/tensorflow/python/framework/op_def_library.py:263: colocate_with (from tensorflow.python.framework.ops) is deprecated and will be removed in a future version.\n",
            "Instructions for updating:\n",
            "Colocations handled automatically by placer.\n",
            "WARNING:tensorflow:From /usr/local/lib/python3.7/dist-packages/keras/backend/tensorflow_backend.py:3445: calling dropout (from tensorflow.python.ops.nn_ops) with keep_prob is deprecated and will be removed in a future version.\n",
            "Instructions for updating:\n",
            "Please use `rate` instead of `keep_prob`. Rate should be set to `rate = 1 - keep_prob`.\n"
          ]
        }
      ]
    },
    {
      "cell_type": "code",
      "source": [
        "# Fitting the CNN to the Training set\n",
        "history = model.fit(np.expand_dims(X_train.values, axis=2), y_train, batch_size=32,epochs=20, verbose=1)"
      ],
      "metadata": {
        "id": "YnRLbhLSIfCM",
        "colab": {
          "base_uri": "https://localhost:8080/"
        },
        "outputId": "5a79c0a7-dc93-418e-f6ae-59d6f41cc5d4"
      },
      "execution_count": null,
      "outputs": [
        {
          "output_type": "stream",
          "name": "stdout",
          "text": [
            "WARNING:tensorflow:From /usr/local/lib/python3.7/dist-packages/tensorflow/python/ops/math_ops.py:3066: to_int32 (from tensorflow.python.ops.math_ops) is deprecated and will be removed in a future version.\n",
            "Instructions for updating:\n",
            "Use tf.cast instead.\n",
            "Epoch 1/20\n",
            "9000/9000 [==============================] - 42s 5ms/step - loss: 14.2498\n",
            "Epoch 2/20\n",
            "9000/9000 [==============================] - 42s 5ms/step - loss: 13.7893\n",
            "Epoch 3/20\n",
            "9000/9000 [==============================] - 42s 5ms/step - loss: 13.6869\n",
            "Epoch 4/20\n",
            "9000/9000 [==============================] - 42s 5ms/step - loss: 13.2615\n",
            "Epoch 5/20\n",
            "9000/9000 [==============================] - 41s 5ms/step - loss: 5.6071\n",
            "Epoch 6/20\n",
            "9000/9000 [==============================] - 46s 5ms/step - loss: 0.5081\n",
            "Epoch 7/20\n",
            "9000/9000 [==============================] - 45s 5ms/step - loss: 0.3522\n",
            "Epoch 8/20\n",
            "9000/9000 [==============================] - 43s 5ms/step - loss: 0.2980\n",
            "Epoch 9/20\n",
            "9000/9000 [==============================] - 42s 5ms/step - loss: 0.2542\n",
            "Epoch 10/20\n",
            "9000/9000 [==============================] - 42s 5ms/step - loss: 0.2237\n",
            "Epoch 11/20\n",
            "9000/9000 [==============================] - 42s 5ms/step - loss: 0.2133\n",
            "Epoch 12/20\n",
            "9000/9000 [==============================] - 42s 5ms/step - loss: 0.1859\n",
            "Epoch 13/20\n",
            "9000/9000 [==============================] - 42s 5ms/step - loss: 0.1815\n",
            "Epoch 14/20\n",
            "9000/9000 [==============================] - 42s 5ms/step - loss: 0.1721\n",
            "Epoch 15/20\n",
            "9000/9000 [==============================] - 42s 5ms/step - loss: 0.1649\n",
            "Epoch 16/20\n",
            "9000/9000 [==============================] - 45s 5ms/step - loss: 0.1573\n",
            "Epoch 17/20\n",
            "9000/9000 [==============================] - 45s 5ms/step - loss: 0.1448\n",
            "Epoch 18/20\n",
            "9000/9000 [==============================] - 45s 5ms/step - loss: 0.1396\n",
            "Epoch 19/20\n",
            "9000/9000 [==============================] - 44s 5ms/step - loss: 0.1349\n",
            "Epoch 20/20\n",
            "9000/9000 [==============================] - 42s 5ms/step - loss: 0.1222\n"
          ]
        }
      ]
    },
    {
      "cell_type": "code",
      "source": [
        "# relationship between epochs and loss\n",
        "\n",
        "loss = history.history['loss']\n",
        "epochs = range(1, len(loss) + 1)\n",
        "plt.plot(epochs, loss,'y',label = 'Training loss')\n",
        "plt.xlabel('Epochs')\n",
        "plt.ylabel('Loss')\n",
        "plt.legend()\n",
        "plt.show()"
      ],
      "metadata": {
        "id": "eQUcOCLliR_E",
        "colab": {
          "base_uri": "https://localhost:8080/",
          "height": 279
        },
        "outputId": "c8339ec3-dcf2-457e-8fbf-32ffb091eb40"
      },
      "execution_count": null,
      "outputs": [
        {
          "output_type": "display_data",
          "data": {
            "text/plain": [
              "<Figure size 432x288 with 1 Axes>"
            ],
            "image/png": "[encoded data removed]"
          },
          "metadata": {
            "needs_background": "light"
          }
        }
      ]
    },
    {
      "cell_type": "code",
      "source": [
        "# Generate R square\n",
        "\n",
        "from sklearn.metrics import r2_score\n",
        "\n",
        "r2_score(y_test,model.predict(np.expand_dims(X_test.values, axis=2)))\n",
        "#r2_score(y_test,model.predict(X_test))"
      ],
      "metadata": {
        "colab": {
          "base_uri": "https://localhost:8080/"
        },
        "id": "9U5g12SRsMnf",
        "outputId": "43ba4cd6-2a2e-4958-ad60-7d9220a9caeb"
      },
      "execution_count": null,
      "outputs": [
        {
          "output_type": "execute_result",
          "data": {
            "text/plain": [
              "0.9973636129669308"
            ]
          },
          "metadata": {},
          "execution_count": 8
        }
      ]
    },
    {
      "cell_type": "code",
      "source": [
        "#Save model\n",
        "model.save(\"my_model.h5\")"
      ],
      "metadata": {
        "id": "ryiZjm46EkRi"
      },
      "execution_count": null,
      "outputs": []
    },
    {
      "cell_type": "code",
      "source": [
        "#Read model\n",
        "model = keras.models.load_model(\"Pb_magnitude_model.h5\")"
      ],
      "metadata": {
        "id": "WnLA_Z1eEwED"
      },
      "execution_count": null,
      "outputs": []
    },
    {
      "cell_type": "code",
      "source": [
        "###############################################################################################"
      ],
      "metadata": {
        "id": "E_JBzvyW3aO7"
      },
      "execution_count": null,
      "outputs": []
    },
    {
      "cell_type": "code",
      "source": [
        "#Cu LRP\n",
        "import innvestigate\n",
        "\n",
        "analyzer = innvestigate.create_analyzer(\"lrp.z\", model)"
      ],
      "metadata": {
        "id": "5XQMr8NV83kV"
      },
      "execution_count": null,
      "outputs": []
    },
    {
      "cell_type": "code",
      "source": [
        "#import the name of files as a list\n",
        "from glob import glob\n",
        "files = glob(r'/content/drive/MyDrive/Feature_selection/Test_set/Pb_water/Pb/*.s1p')\n",
        "files.sort()\n",
        "print(len(files))\n",
        "\n",
        "#export each tesing datapoint's LRP\n",
        "for i in range(0,len(X_test)):\n",
        "  a = X_test[i:i+1]\n",
        "  scores = analyzer.analyze(np.expand_dims(a.values, axis=2))[...,0]\n",
        "  lrp = pd.DataFrame(scores.mean(axis=0), index=a.columns, columns=[\"Score\"])\n",
        "  # Sort scores by absolute value\n",
        "  lrp[\"Abs Score\"] = np.abs(lrp[\"Score\"])\n",
        "  lrp.sort_values(by=\"Abs Score\", ascending=False, inplace=True)\n",
        "  lrp.to_csv(\"/content/drive/MyDrive/Pb_magnitude_LRP/\" + re.findall(\"\\d+\",files[i])[0] + \"_\" + re.findall(\"(Cu|Pb)\",files[i])[2] + \"_\" + re.findall(\"\\d+\",files[i])[1] + \"ppb_\" + re.findall(\"\\d+\",files[i])[2] + \".csv\", index=True)"
      ],
      "metadata": {
        "colab": {
          "base_uri": "https://localhost:8080/"
        },
        "id": "jmHasnDKzgAy",
        "outputId": "829e1ce7-acb6-43e4-bb60-4fa29765a7f1"
      },
      "execution_count": null,
      "outputs": [
        {
          "output_type": "stream",
          "name": "stdout",
          "text": [
            "1200\n"
          ]
        }
      ]
    },
    {
      "cell_type": "code",
      "source": [
        "#split to 3 different ppb's dataset\n",
        "data_ppb_1 = []\n",
        "data_ppb_1 = pd.DataFrame(data_ppb_1)\n",
        "X_test = pd.DataFrame(X_test)\n",
        "data_ppb_5 = []\n",
        "data_ppb_5 = pd.DataFrame(data_ppb_5)\n",
        "data_ppb_10 = []\n",
        "data_ppb_10 = pd.DataFrame(data_ppb_10)\n",
        "\n",
        "\n",
        "for i in range(len(y_test)):\n",
        "  if y_test['ppb'].loc[i] == 1:\n",
        "    data_ppb_1 = data_ppb_1.append(pd.DataFrame(X_test[i:i+1]), ignore_index=True)\n",
        "  if y_test['ppb'].loc[i] == 5:\n",
        "    data_ppb_5 = data_ppb_5.append(pd.DataFrame(X_test[i:i+1]), ignore_index=True)\n",
        "  if y_test['ppb'].loc[i] == 10:\n",
        "    data_ppb_10 = data_ppb_10.append(pd.DataFrame(X_test[i:i+1]), ignore_index=True)\n",
        "\n",
        "\n",
        "data_ppb_1.reset_index(drop=True,inplace=True)\n",
        "data_ppb_5.reset_index(drop=True,inplace=True)\n",
        "data_ppb_10.reset_index(drop=True,inplace=True)\n",
        "\n"
      ],
      "metadata": {
        "id": "ZPNa-u39kupH"
      },
      "execution_count": null,
      "outputs": []
    },
    {
      "cell_type": "code",
      "source": [
        "from matplotlib.pyplot import MultipleLocator\n",
        "scores = analyzer.analyze(np.expand_dims(data_ppb_1.values, axis=2))[...,0]\n",
        "lrp = pd.DataFrame(scores.mean(axis=0), index=data_ppb_1.columns, columns=[\"Score\"])\n",
        "lrp[\"Abs Score\"] = np.abs(lrp[\"Score\"])\n",
        "\n",
        "\n",
        "rawdata = pd.read_csv('/content/drive/MyDrive/Feature_selection/Train_set/Cu_water/Cu/10_Cu_1ppb_10040.s1p', skiprows=5, delimiter=\"\\t\", header=None)\n",
        "lrp.loc[:, 'Frequency'] = 0\n",
        "lrp.loc[:, 'Magnitude'] = 0\n",
        "\n",
        "for i in range(len(lrp)):\n",
        "  lrp.iloc[i,2] = rawdata.loc[i*8,0]/1000000000\n",
        "  lrp.iloc[i,3] = rawdata.loc[i*8,1]\n",
        "\n",
        "\n",
        "x_major_locator = MultipleLocator(0.8)\n",
        "ax = plt.gca()\n",
        "ax.xaxis.set_major_locator(x_major_locator)\n",
        "plt.scatter(lrp['Frequency'],lrp['Abs Score'], s=1)\n",
        "ax2 = ax.twinx()\n",
        "ax2.plot(lrp['Frequency'],lrp['Magnitude'],color = 'grey')\n",
        "plt.title('Cu_magnitude 1 ppb LRP abs score scatter plot')\n",
        "ax.set_xlabel('Frequency(GHz)')\n",
        "ax.set_ylabel('LRP score',color = 'b')\n",
        "ax2.set_ylabel('Magnitude',color = 'grey')\n",
        "ax.grid()\n",
        "plt.savefig('plot.eps', format='eps')\n",
        "plt.show()\n",
        "\n",
        "lrp.sort_values(by=\"Abs Score\", ascending=False, inplace=True)\n",
        "lrp.to_csv(\"1ppb_lrp.csv\", index=True)\n"
      ],
      "metadata": {
        "colab": {
          "base_uri": "https://localhost:8080/",
          "height": 295
        },
        "id": "BvqP5_c5n1Bv",
        "outputId": "e6cf399c-f647-46fd-fe8a-98ee5e884d29"
      },
      "execution_count": null,
      "outputs": [
        {
          "output_type": "display_data",
          "data": {
            "text/plain": [
              "<Figure size 432x288 with 2 Axes>"
            ],
            "image/png": "[encoded data removed]"
          },
          "metadata": {
            "needs_background": "light"
          }
        }
      ]
    },
    {
      "cell_type": "code",
      "source": [
        "from matplotlib.pyplot import MultipleLocator\n",
        "scores = analyzer.analyze(np.expand_dims(data_ppb_5.values, axis=2))[...,0]\n",
        "lrp = pd.DataFrame(scores.mean(axis=0), index=data_ppb_5.columns, columns=[\"Score\"])\n",
        "lrp[\"Abs Score\"] = np.abs(lrp[\"Score\"])\n",
        "\n",
        "\n",
        "rawdata = pd.read_csv('/content/drive/MyDrive/Feature_selection/Train_set/Cu_water/Cu/10_Cu_5ppb_10028.s1p', skiprows=5, delimiter=\"\\t\", header=None)\n",
        "lrp.loc[:, 'Frequency'] = 0\n",
        "lrp.loc[:, 'Magnitude'] = 0\n",
        "\n",
        "for i in range(len(lrp)):\n",
        "  lrp.iloc[i,2] = rawdata.loc[i*8,0]/1000000000\n",
        "  lrp.iloc[i,3] = rawdata.loc[i*8,1]\n",
        "\n",
        "\n",
        "x_major_locator = MultipleLocator(0.8)\n",
        "ax = plt.gca()\n",
        "ax.xaxis.set_major_locator(x_major_locator)\n",
        "plt.scatter(lrp['Frequency'],lrp['Abs Score'], s=1)\n",
        "ax2 = ax.twinx()\n",
        "ax2.plot(lrp['Frequency'],lrp['Magnitude'],color = 'grey')\n",
        "plt.title('Cu_magnitude 5 ppb LRP abs score scatter plot')\n",
        "ax.set_xlabel('Frequency(GHz)')\n",
        "ax.set_ylabel('LRP score',color = 'b')\n",
        "ax2.set_ylabel('Magnitude',color = 'grey')\n",
        "ax.grid()\n",
        "plt.savefig('plot.eps', format='eps')\n",
        "plt.show()\n",
        "\n",
        "lrp.sort_values(by=\"Abs Score\", ascending=False, inplace=True)\n",
        "lrp.to_csv(\"5ppb_lrp.csv\", index=True)"
      ],
      "metadata": {
        "colab": {
          "base_uri": "https://localhost:8080/",
          "height": 295
        },
        "id": "rxCSAa8KQcdM",
        "outputId": "a454bccd-84fe-43b6-afc1-7ab8cbfe489d"
      },
      "execution_count": null,
      "outputs": [
        {
          "output_type": "display_data",
          "data": {
            "text/plain": [
              "<Figure size 432x288 with 2 Axes>"
            ],
            "image/png": "[encoded data removed]"
          },
          "metadata": {
            "needs_background": "light"
          }
        }
      ]
    },
    {
      "cell_type": "code",
      "source": [
        "from matplotlib.pyplot import MultipleLocator\n",
        "scores = analyzer.analyze(np.expand_dims(data_ppb_10.values, axis=2))[...,0]\n",
        "lrp = pd.DataFrame(scores.mean(axis=0), index=data_ppb_10.columns, columns=[\"Score\"])\n",
        "lrp[\"Abs Score\"] = np.abs(lrp[\"Score\"])\n",
        "\n",
        "\n",
        "rawdata = pd.read_csv('/content/drive/MyDrive/Feature_selection/Train_set/Cu_water/Cu/10_Cu_10ppb_10163.s1p', skiprows=5, delimiter=\"\\t\", header=None)\n",
        "lrp.loc[:, 'Frequency'] = 0\n",
        "lrp.loc[:, 'Magnitude'] = 0\n",
        "\n",
        "for i in range(len(lrp)):\n",
        "  lrp.iloc[i,2] = rawdata.loc[i*8,0]/1000000000\n",
        "  lrp.iloc[i,3] = rawdata.loc[i*8,1]\n",
        "\n",
        "\n",
        "x_major_locator = MultipleLocator(0.8)\n",
        "ax = plt.gca()\n",
        "ax.xaxis.set_major_locator(x_major_locator)\n",
        "plt.scatter(lrp['Frequency'],lrp['Abs Score'], s=1)\n",
        "ax2 = ax.twinx()\n",
        "ax2.plot(lrp['Frequency'],lrp['Magnitude'],color = 'grey')\n",
        "plt.title('Cu_magnitude 10 ppb LRP abs score scatter plot')\n",
        "ax.set_xlabel('Frequency(GHz)')\n",
        "ax.set_ylabel('LRP score',color = 'b')\n",
        "ax2.set_ylabel('Magnitude',color = 'grey')\n",
        "ax.grid()\n",
        "plt.savefig('plot.eps', format='eps')\n",
        "plt.show()\n",
        "\n",
        "lrp.sort_values(by=\"Abs Score\", ascending=False, inplace=True)\n",
        "lrp.to_csv(\"10ppb_lrp.csv\", index=True)"
      ],
      "metadata": {
        "colab": {
          "base_uri": "https://localhost:8080/",
          "height": 295
        },
        "id": "5HAyQlsbQc0h",
        "outputId": "ba5732c9-17d9-486b-baf6-a714ff8c5078"
      },
      "execution_count": null,
      "outputs": [
        {
          "output_type": "display_data",
          "data": {
            "text/plain": [
              "<Figure size 432x288 with 2 Axes>"
            ],
            "image/png": "[encoded data removed]"
          },
          "metadata": {
            "needs_background": "light"
          }
        }
      ]
    },
    {
      "cell_type": "code",
      "source": [
        "#################################################################################"
      ],
      "metadata": {
        "id": "GtBK-JOz3ei1"
      },
      "execution_count": null,
      "outputs": []
    },
    {
      "cell_type": "code",
      "source": [
        "#Pb LRP\n",
        "import innvestigate\n",
        "\n",
        "analyzer = innvestigate.create_analyzer(\"lrp.z\", model)"
      ],
      "metadata": {
        "id": "3eoPpUHmWTBj"
      },
      "execution_count": null,
      "outputs": []
    },
    {
      "cell_type": "code",
      "source": [
        "#split to 3 different ppb's dataset\n",
        "data_ppb_1 = []\n",
        "data_ppb_1 = pd.DataFrame(data_ppb_1)\n",
        "X_test = pd.DataFrame(X_test)\n",
        "data_ppb_5 = []\n",
        "data_ppb_5 = pd.DataFrame(data_ppb_5)\n",
        "data_ppb_10 = []\n",
        "data_ppb_10 = pd.DataFrame(data_ppb_10)\n",
        "\n",
        "\n",
        "for i in range(len(y_test)):\n",
        "  if y_test['ppb'].loc[i] == 1:\n",
        "    data_ppb_1 = data_ppb_1.append(pd.DataFrame(X_test[i:i+1]), ignore_index=True)\n",
        "  if y_test['ppb'].loc[i] == 5:\n",
        "    data_ppb_5 = data_ppb_5.append(pd.DataFrame(X_test[i:i+1]), ignore_index=True)\n",
        "  if y_test['ppb'].loc[i] == 10:\n",
        "    data_ppb_10 = data_ppb_10.append(pd.DataFrame(X_test[i:i+1]), ignore_index=True)\n",
        "\n",
        "\n",
        "data_ppb_1.reset_index(drop=True,inplace=True)\n",
        "data_ppb_5.reset_index(drop=True,inplace=True)\n",
        "data_ppb_10.reset_index(drop=True,inplace=True)\n",
        "\n"
      ],
      "metadata": {
        "id": "bMv36MGNWLqp"
      },
      "execution_count": null,
      "outputs": []
    },
    {
      "cell_type": "code",
      "source": [
        "from matplotlib.pyplot import MultipleLocator\n",
        "scores = analyzer.analyze(np.expand_dims(data_ppb_1.values, axis=2))[...,0]\n",
        "lrp = pd.DataFrame(scores.mean(axis=0), index=data_ppb_1.columns, columns=[\"Score\"])\n",
        "lrp[\"Abs Score\"] = np.abs(lrp[\"Score\"])\n",
        "\n",
        "\n",
        "rawdata = pd.read_csv('/content/drive/MyDrive/Feature_selection/Train_set/Pb_water/Pb/10_Pb_1ppb_10110.s1p', skiprows=5, delimiter=\"\\t\", header=None)\n",
        "lrp.loc[:, 'Frequency'] = 0\n",
        "lrp.loc[:, 'Magnitude'] = 0\n",
        "\n",
        "for i in range(len(lrp)):\n",
        "  lrp.iloc[i,2] = rawdata.loc[i*8,0]/1000000000\n",
        "  lrp.iloc[i,3] = rawdata.loc[i*8,1]\n",
        "\n",
        "\n",
        "x_major_locator = MultipleLocator(0.8)\n",
        "ax = plt.gca()\n",
        "ax.xaxis.set_major_locator(x_major_locator)\n",
        "plt.scatter(lrp['Frequency'],lrp['Abs Score'], s=1)\n",
        "ax2 = ax.twinx()\n",
        "ax2.plot(lrp['Frequency'],lrp['Magnitude'],color = 'grey')\n",
        "plt.title('Pb_magnitude 1 ppb LRP abs score scatter plot')\n",
        "ax.set_xlabel('Frequency(GHz)')\n",
        "ax.set_ylabel('LRP score',color = 'b')\n",
        "ax2.set_ylabel('Magnitude',color = 'grey')\n",
        "ax.grid()\n",
        "plt.savefig('plot.eps', format='eps')\n",
        "plt.show()\n",
        "\n",
        "lrp.sort_values(by=\"Abs Score\", ascending=False, inplace=True)\n",
        "lrp.to_csv(\"1ppb_lrp.csv\", index=True)"
      ],
      "metadata": {
        "colab": {
          "base_uri": "https://localhost:8080/",
          "height": 295
        },
        "id": "mEenlwh9We-u",
        "outputId": "b6478d7d-7337-4cee-c767-41e621c71969"
      },
      "execution_count": null,
      "outputs": [
        {
          "output_type": "display_data",
          "data": {
            "text/plain": [
              "<Figure size 432x288 with 2 Axes>"
            ],
            "image/png": "[encoded data removed]"
          },
          "metadata": {
            "needs_background": "light"
          }
        }
      ]
    },
    {
      "cell_type": "code",
      "source": [
        "from matplotlib.pyplot import MultipleLocator\n",
        "scores = analyzer.analyze(np.expand_dims(data_ppb_5.values, axis=2))[...,0]\n",
        "lrp = pd.DataFrame(scores.mean(axis=0), index=data_ppb_5.columns, columns=[\"Score\"])\n",
        "lrp[\"Abs Score\"] = np.abs(lrp[\"Score\"])\n",
        "\n",
        "\n",
        "rawdata = pd.read_csv('/content/drive/MyDrive/Feature_selection/Train_set/Pb_water/Pb/10_Pb_5ppb_10048.s1p', skiprows=5, delimiter=\"\\t\", header=None)\n",
        "lrp.loc[:, 'Frequency'] = 0\n",
        "lrp.loc[:, 'Magnitude'] = 0\n",
        "\n",
        "for i in range(len(lrp)):\n",
        "  lrp.iloc[i,2] = rawdata.loc[i*8,0]/1000000000\n",
        "  lrp.iloc[i,3] = rawdata.loc[i*8,1]\n",
        "\n",
        "\n",
        "x_major_locator = MultipleLocator(0.8)\n",
        "ax = plt.gca()\n",
        "ax.xaxis.set_major_locator(x_major_locator)\n",
        "plt.scatter(lrp['Frequency'],lrp['Abs Score'], s=1)\n",
        "ax2 = ax.twinx()\n",
        "ax2.plot(lrp['Frequency'],lrp['Magnitude'],color = 'grey')\n",
        "plt.title('Pb_magnitude 5 ppb LRP abs score scatter plot')\n",
        "ax.set_xlabel('Frequency(GHz)')\n",
        "ax.set_ylabel('LRP score',color = 'b')\n",
        "ax2.set_ylabel('Magnitude',color = 'grey')\n",
        "ax.grid()\n",
        "plt.savefig('plot.eps', format='eps')\n",
        "plt.show()\n",
        "\n",
        "lrp.sort_values(by=\"Abs Score\", ascending=False, inplace=True)\n",
        "lrp.to_csv(\"5ppb_lrp.csv\", index=True)"
      ],
      "metadata": {
        "colab": {
          "base_uri": "https://localhost:8080/",
          "height": 295
        },
        "id": "PsqlChYVWkPP",
        "outputId": "aef2f2a6-ba49-466a-cbda-2f6d6d3ef2ec"
      },
      "execution_count": null,
      "outputs": [
        {
          "output_type": "display_data",
          "data": {
            "text/plain": [
              "<Figure size 432x288 with 2 Axes>"
            ],
            "image/png": "[encoded data removed]"
          },
          "metadata": {
            "needs_background": "light"
          }
        }
      ]
    },
    {
      "cell_type": "code",
      "source": [
        "from matplotlib.pyplot import MultipleLocator\n",
        "scores = analyzer.analyze(np.expand_dims(data_ppb_10.values, axis=2))[...,0]\n",
        "lrp = pd.DataFrame(scores.mean(axis=0), index=data_ppb_10.columns, columns=[\"Score\"])\n",
        "lrp[\"Abs Score\"] = np.abs(lrp[\"Score\"])\n",
        "\n",
        "\n",
        "rawdata = pd.read_csv('/content/drive/MyDrive/Feature_selection/Train_set/Pb_water/Pb/11_Pb_10ppb_11039.s1p', skiprows=5, delimiter=\"\\t\", header=None)\n",
        "lrp.loc[:, 'Frequency'] = 0\n",
        "lrp.loc[:, 'Magnitude'] = 0\n",
        "\n",
        "for i in range(len(lrp)):\n",
        "  lrp.iloc[i,2] = rawdata.loc[i*8,0]/1000000000\n",
        "  lrp.iloc[i,3] = rawdata.loc[i*8,1]\n",
        "\n",
        "\n",
        "x_major_locator = MultipleLocator(0.8)\n",
        "ax = plt.gca()\n",
        "ax.xaxis.set_major_locator(x_major_locator)\n",
        "plt.scatter(lrp['Frequency'],lrp['Abs Score'], s=1)\n",
        "ax2 = ax.twinx()\n",
        "ax2.plot(lrp['Frequency'],lrp['Magnitude'],color = 'grey')\n",
        "plt.title('Pb_magnitude 10 ppb LRP abs score scatter plot')\n",
        "ax.set_xlabel('Frequency(GHz)')\n",
        "ax.set_ylabel('LRP score',color = 'b')\n",
        "ax2.set_ylabel('Magnitude',color = 'grey')\n",
        "ax.grid()\n",
        "plt.savefig('plot.eps', format='eps')\n",
        "plt.show()\n",
        "\n",
        "lrp.sort_values(by=\"Abs Score\", ascending=False, inplace=True)\n",
        "lrp.to_csv(\"10ppb_lrp.csv\", index=True)"
      ],
      "metadata": {
        "colab": {
          "base_uri": "https://localhost:8080/",
          "height": 295
        },
        "id": "SLdzjFZvWnpe",
        "outputId": "52d95cce-3983-4f3a-c1f9-387ef6389b0a"
      },
      "execution_count": null,
      "outputs": [
        {
          "output_type": "display_data",
          "data": {
            "text/plain": [
              "<Figure size 432x288 with 2 Axes>"
            ],
            "image/png": "[encoded data removed]"
          },
          "metadata": {
            "needs_background": "light"
          }
        }
      ]
    },
    {
      "cell_type": "code",
      "source": [
        "##############################################################################################################"
      ],
      "metadata": {
        "id": "zY0xsnMmWosf"
      },
      "execution_count": null,
      "outputs": []
    },
    {
      "cell_type": "code",
      "source": [
        "# Compute MSE and evaluate the model, and visualize the result in a plot.\n",
        "\n",
        "ypred = model.predict(np.expand_dims(X_test.values, axis=2))\n",
        "#print(model.evaluate(X_train, y_train))\n",
        "print(\"MSE: %.4f\" % mean_squared_error(y_test, ypred))\n",
        "\n",
        "x_ax = range(len(ypred))\n",
        "plt.scatter(x_ax, y_test, s=1, color=\"blue\", label=\"original\")\n",
        "plt.plot(x_ax, ypred, lw=0.8, color=\"red\", label=\"predicted\")\n",
        "plt.legend()\n",
        "plt.show()"
      ],
      "metadata": {
        "colab": {
          "base_uri": "https://localhost:8080/",
          "height": 284
        },
        "id": "62fi0s5o1Ca0",
        "outputId": "617e9d63-57ae-4484-c01f-733a7de18dad"
      },
      "execution_count": null,
      "outputs": [
        {
          "output_type": "stream",
          "name": "stdout",
          "text": [
            "MSE: 0.0357\n"
          ]
        },
        {
          "output_type": "display_data",
          "data": {
            "text/plain": [
              "<Figure size 432x288 with 1 Axes>"
            ],
            "image/png": "[encoded data removed]"
          },
          "metadata": {
            "needs_background": "light"
          }
        }
      ]
    },
    {
      "cell_type": "code",
      "source": [
        "# virthalize the plot\n",
        "for i in range (len(y_test)):\n",
        "  if (abs(ypred[i] - y_test.values[i])) <= 1.5:\n",
        "    color = \"green\"\n",
        "  if (abs(ypred[i] - y_test.values[i])) > 1.5 and ((ypred[i] - y_test.values[i])) <= 2.5:\n",
        "    color = \"gold\"\n",
        "  if (abs(ypred[i] - y_test.values[i])) > 2.5:\n",
        "    color = \"red\"\n",
        "  plt.scatter(y_test.values[i], ypred[i], s=1, c=color)\n",
        "\n",
        "plt.plot(y_test, y_test, lw=0.8, color=\"black\", label=\"y = x\")\n",
        "plt.text(0.7,8.8,'Red: 2.5 < error',color = 'red')\n",
        "plt.text(0.7,7.8,'Yellow: 1.5 < error <= 2.5',color = 'gold')\n",
        "plt.text(0.7,6.8,'Green: error <= 1.5',color = 'green')\n",
        "plt.text(7.6,2,'MSE = %.4f' % mean_squared_error(y_test, ypred))\n",
        "plt.text(7.6,1.3,'R square = %.4f' % r2_score(y_test,model.predict(np.expand_dims(X_test.values, axis=2))))\n",
        "plt.title('Magnitude Deep Learning Regression')\n",
        "plt.xlabel('Ground Truth (PPb)')\n",
        "plt.ylabel('Prediction (PPb)')\n",
        "plt.grid()\n",
        "plt.legend()\n",
        "plt.show()"
      ],
      "metadata": {
        "colab": {
          "base_uri": "https://localhost:8080/",
          "height": 295
        },
        "id": "odYaXOZI4rKC",
        "outputId": "d65aca9b-1bba-4535-ccca-ca8dd2c7a532"
      },
      "execution_count": null,
      "outputs": [
        {
          "output_type": "display_data",
          "data": {
            "text/plain": [
              "<Figure size 432x288 with 1 Axes>"
            ],
            "image/png": "[encoded data removed]"
          },
          "metadata": {
            "needs_background": "light"
          }
        }
      ]
    },
    {
      "cell_type": "code",
      "source": [
        "# Output the prediction and ground truth\n",
        "\n",
        "prediction = pd.DataFrame(ypred, index=None, columns=['Prediction'])\n",
        "prediction['Ground_truth'] = y_test\n",
        "prediction.to_csv('prediction.csv',index=True)"
      ],
      "metadata": {
        "id": "fBli8TiLMpss"
      },
      "execution_count": null,
      "outputs": []
    },
    {
      "cell_type": "code",
      "source": [
        "##############################################################################"
      ],
      "metadata": {
        "id": "yxILl6cDsXxE"
      },
      "execution_count": null,
      "outputs": []
    },
    {
      "cell_type": "code",
      "source": [
        "#SVR Gridsearch\n",
        "from sklearn.model_selection import GridSearchCV\n",
        "from sklearn.svm import SVR\n",
        "\n",
        "# defining parameter range\n",
        "param_grid = {'C': [0.1, 1, 10, 100, 1000],\n",
        "              'gamma': [1, 0.1, 0.01, 0.001, 0.0001],\n",
        "              'kernel': ['rbf']}\n",
        "\n",
        "grid = GridSearchCV(SVR(), param_grid, refit = True, cv = 3, verbose = 3)\n",
        "\n",
        "# fitting the model for grid search\n",
        "grid.fit(X_train,y_train)\n",
        "print(grid.best_params_)\n",
        "print(grid.best_estimator_)"
      ],
      "metadata": {
        "id": "iWnRLTxXfJE_",
        "colab": {
          "base_uri": "https://localhost:8080/"
        },
        "outputId": "210ed0bd-b80e-4d36-fe13-e50d45a02dc5"
      },
      "execution_count": null,
      "outputs": [
        {
          "output_type": "stream",
          "name": "stdout",
          "text": [
            "Fitting 3 folds for each of 25 candidates, totalling 75 fits\n"
          ]
        },
        {
          "output_type": "stream",
          "name": "stderr",
          "text": [
            "/usr/local/lib/python3.7/dist-packages/sklearn/utils/validation.py:993: DataConversionWarning: A column-vector y was passed when a 1d array was expected. Please change the shape of y to (n_samples, ), for example using ravel().\n",
            "  y = column_or_1d(y, warn=True)\n"
          ]
        },
        {
          "output_type": "stream",
          "name": "stdout",
          "text": [
            "[CV 1/3] END ........C=0.1, gamma=1, kernel=rbf;, score=0.106 total time=   0.9s\n"
          ]
        },
        {
          "output_type": "stream",
          "name": "stderr",
          "text": [
            "/usr/local/lib/python3.7/dist-packages/sklearn/utils/validation.py:993: DataConversionWarning: A column-vector y was passed when a 1d array was expected. Please change the shape of y to (n_samples, ), for example using ravel().\n",
            "  y = column_or_1d(y, warn=True)\n"
          ]
        },
        {
          "output_type": "stream",
          "name": "stdout",
          "text": [
            "[CV 2/3] END .......C=0.1, gamma=1, kernel=rbf;, score=-0.084 total time=   0.9s\n"
          ]
        },
        {
          "output_type": "stream",
          "name": "stderr",
          "text": [
            "/usr/local/lib/python3.7/dist-packages/sklearn/utils/validation.py:993: DataConversionWarning: A column-vector y was passed when a 1d array was expected. Please change the shape of y to (n_samples, ), for example using ravel().\n",
            "  y = column_or_1d(y, warn=True)\n"
          ]
        },
        {
          "output_type": "stream",
          "name": "stdout",
          "text": [
            "[CV 3/3] END .......C=0.1, gamma=1, kernel=rbf;, score=-2.955 total time=   0.9s\n"
          ]
        },
        {
          "output_type": "stream",
          "name": "stderr",
          "text": [
            "/usr/local/lib/python3.7/dist-packages/sklearn/utils/validation.py:993: DataConversionWarning: A column-vector y was passed when a 1d array was expected. Please change the shape of y to (n_samples, ), for example using ravel().\n",
            "  y = column_or_1d(y, warn=True)\n"
          ]
        },
        {
          "output_type": "stream",
          "name": "stdout",
          "text": [
            "[CV 1/3] END ......C=0.1, gamma=0.1, kernel=rbf;, score=0.992 total time=   0.5s\n"
          ]
        },
        {
          "output_type": "stream",
          "name": "stderr",
          "text": [
            "/usr/local/lib/python3.7/dist-packages/sklearn/utils/validation.py:993: DataConversionWarning: A column-vector y was passed when a 1d array was expected. Please change the shape of y to (n_samples, ), for example using ravel().\n",
            "  y = column_or_1d(y, warn=True)\n"
          ]
        },
        {
          "output_type": "stream",
          "name": "stdout",
          "text": [
            "[CV 2/3] END ......C=0.1, gamma=0.1, kernel=rbf;, score=0.978 total time=   0.6s\n"
          ]
        },
        {
          "output_type": "stream",
          "name": "stderr",
          "text": [
            "/usr/local/lib/python3.7/dist-packages/sklearn/utils/validation.py:993: DataConversionWarning: A column-vector y was passed when a 1d array was expected. Please change the shape of y to (n_samples, ), for example using ravel().\n",
            "  y = column_or_1d(y, warn=True)\n"
          ]
        },
        {
          "output_type": "stream",
          "name": "stdout",
          "text": [
            "[CV 3/3] END ......C=0.1, gamma=0.1, kernel=rbf;, score=0.986 total time=   0.5s\n"
          ]
        },
        {
          "output_type": "stream",
          "name": "stderr",
          "text": [
            "/usr/local/lib/python3.7/dist-packages/sklearn/utils/validation.py:993: DataConversionWarning: A column-vector y was passed when a 1d array was expected. Please change the shape of y to (n_samples, ), for example using ravel().\n",
            "  y = column_or_1d(y, warn=True)\n"
          ]
        },
        {
          "output_type": "stream",
          "name": "stdout",
          "text": [
            "[CV 1/3] END .....C=0.1, gamma=0.01, kernel=rbf;, score=0.480 total time=   0.6s\n"
          ]
        },
        {
          "output_type": "stream",
          "name": "stderr",
          "text": [
            "/usr/local/lib/python3.7/dist-packages/sklearn/utils/validation.py:993: DataConversionWarning: A column-vector y was passed when a 1d array was expected. Please change the shape of y to (n_samples, ), for example using ravel().\n",
            "  y = column_or_1d(y, warn=True)\n"
          ]
        },
        {
          "output_type": "stream",
          "name": "stdout",
          "text": [
            "[CV 2/3] END .....C=0.1, gamma=0.01, kernel=rbf;, score=0.192 total time=   0.6s\n"
          ]
        },
        {
          "output_type": "stream",
          "name": "stderr",
          "text": [
            "/usr/local/lib/python3.7/dist-packages/sklearn/utils/validation.py:993: DataConversionWarning: A column-vector y was passed when a 1d array was expected. Please change the shape of y to (n_samples, ), for example using ravel().\n",
            "  y = column_or_1d(y, warn=True)\n"
          ]
        },
        {
          "output_type": "stream",
          "name": "stdout",
          "text": [
            "[CV 3/3] END ....C=0.1, gamma=0.01, kernel=rbf;, score=-0.797 total time=   1.0s\n"
          ]
        },
        {
          "output_type": "stream",
          "name": "stderr",
          "text": [
            "/usr/local/lib/python3.7/dist-packages/sklearn/utils/validation.py:993: DataConversionWarning: A column-vector y was passed when a 1d array was expected. Please change the shape of y to (n_samples, ), for example using ravel().\n",
            "  y = column_or_1d(y, warn=True)\n"
          ]
        },
        {
          "output_type": "stream",
          "name": "stdout",
          "text": [
            "[CV 1/3] END ....C=0.1, gamma=0.001, kernel=rbf;, score=0.040 total time=   0.6s\n"
          ]
        },
        {
          "output_type": "stream",
          "name": "stderr",
          "text": [
            "/usr/local/lib/python3.7/dist-packages/sklearn/utils/validation.py:993: DataConversionWarning: A column-vector y was passed when a 1d array was expected. Please change the shape of y to (n_samples, ), for example using ravel().\n",
            "  y = column_or_1d(y, warn=True)\n"
          ]
        },
        {
          "output_type": "stream",
          "name": "stdout",
          "text": [
            "[CV 2/3] END ...C=0.1, gamma=0.001, kernel=rbf;, score=-0.119 total time=   0.6s\n"
          ]
        },
        {
          "output_type": "stream",
          "name": "stderr",
          "text": [
            "/usr/local/lib/python3.7/dist-packages/sklearn/utils/validation.py:993: DataConversionWarning: A column-vector y was passed when a 1d array was expected. Please change the shape of y to (n_samples, ), for example using ravel().\n",
            "  y = column_or_1d(y, warn=True)\n"
          ]
        },
        {
          "output_type": "stream",
          "name": "stdout",
          "text": [
            "[CV 3/3] END ...C=0.1, gamma=0.001, kernel=rbf;, score=-3.626 total time=   0.9s\n"
          ]
        },
        {
          "output_type": "stream",
          "name": "stderr",
          "text": [
            "/usr/local/lib/python3.7/dist-packages/sklearn/utils/validation.py:993: DataConversionWarning: A column-vector y was passed when a 1d array was expected. Please change the shape of y to (n_samples, ), for example using ravel().\n",
            "  y = column_or_1d(y, warn=True)\n"
          ]
        },
        {
          "output_type": "stream",
          "name": "stdout",
          "text": [
            "[CV 1/3] END ..C=0.1, gamma=0.0001, kernel=rbf;, score=-0.015 total time=   0.6s\n"
          ]
        },
        {
          "output_type": "stream",
          "name": "stderr",
          "text": [
            "/usr/local/lib/python3.7/dist-packages/sklearn/utils/validation.py:993: DataConversionWarning: A column-vector y was passed when a 1d array was expected. Please change the shape of y to (n_samples, ), for example using ravel().\n",
            "  y = column_or_1d(y, warn=True)\n"
          ]
        },
        {
          "output_type": "stream",
          "name": "stdout",
          "text": [
            "[CV 2/3] END ..C=0.1, gamma=0.0001, kernel=rbf;, score=-0.157 total time=   0.6s\n"
          ]
        },
        {
          "output_type": "stream",
          "name": "stderr",
          "text": [
            "/usr/local/lib/python3.7/dist-packages/sklearn/utils/validation.py:993: DataConversionWarning: A column-vector y was passed when a 1d array was expected. Please change the shape of y to (n_samples, ), for example using ravel().\n",
            "  y = column_or_1d(y, warn=True)\n"
          ]
        },
        {
          "output_type": "stream",
          "name": "stdout",
          "text": [
            "[CV 3/3] END ..C=0.1, gamma=0.0001, kernel=rbf;, score=-4.018 total time=   0.9s\n"
          ]
        },
        {
          "output_type": "stream",
          "name": "stderr",
          "text": [
            "/usr/local/lib/python3.7/dist-packages/sklearn/utils/validation.py:993: DataConversionWarning: A column-vector y was passed when a 1d array was expected. Please change the shape of y to (n_samples, ), for example using ravel().\n",
            "  y = column_or_1d(y, warn=True)\n"
          ]
        },
        {
          "output_type": "stream",
          "name": "stdout",
          "text": [
            "[CV 1/3] END ..........C=1, gamma=1, kernel=rbf;, score=0.834 total time=   0.9s\n"
          ]
        },
        {
          "output_type": "stream",
          "name": "stderr",
          "text": [
            "/usr/local/lib/python3.7/dist-packages/sklearn/utils/validation.py:993: DataConversionWarning: A column-vector y was passed when a 1d array was expected. Please change the shape of y to (n_samples, ), for example using ravel().\n",
            "  y = column_or_1d(y, warn=True)\n"
          ]
        },
        {
          "output_type": "stream",
          "name": "stdout",
          "text": [
            "[CV 2/3] END ..........C=1, gamma=1, kernel=rbf;, score=0.441 total time=   0.9s\n"
          ]
        },
        {
          "output_type": "stream",
          "name": "stderr",
          "text": [
            "/usr/local/lib/python3.7/dist-packages/sklearn/utils/validation.py:993: DataConversionWarning: A column-vector y was passed when a 1d array was expected. Please change the shape of y to (n_samples, ), for example using ravel().\n",
            "  y = column_or_1d(y, warn=True)\n"
          ]
        },
        {
          "output_type": "stream",
          "name": "stdout",
          "text": [
            "[CV 3/3] END ..........C=1, gamma=1, kernel=rbf;, score=0.698 total time=   0.9s\n"
          ]
        },
        {
          "output_type": "stream",
          "name": "stderr",
          "text": [
            "/usr/local/lib/python3.7/dist-packages/sklearn/utils/validation.py:993: DataConversionWarning: A column-vector y was passed when a 1d array was expected. Please change the shape of y to (n_samples, ), for example using ravel().\n",
            "  y = column_or_1d(y, warn=True)\n"
          ]
        },
        {
          "output_type": "stream",
          "name": "stdout",
          "text": [
            "[CV 1/3] END ........C=1, gamma=0.1, kernel=rbf;, score=0.995 total time=   0.3s\n"
          ]
        },
        {
          "output_type": "stream",
          "name": "stderr",
          "text": [
            "/usr/local/lib/python3.7/dist-packages/sklearn/utils/validation.py:993: DataConversionWarning: A column-vector y was passed when a 1d array was expected. Please change the shape of y to (n_samples, ), for example using ravel().\n",
            "  y = column_or_1d(y, warn=True)\n"
          ]
        },
        {
          "output_type": "stream",
          "name": "stdout",
          "text": [
            "[CV 2/3] END ........C=1, gamma=0.1, kernel=rbf;, score=0.998 total time=   0.4s\n"
          ]
        },
        {
          "output_type": "stream",
          "name": "stderr",
          "text": [
            "/usr/local/lib/python3.7/dist-packages/sklearn/utils/validation.py:993: DataConversionWarning: A column-vector y was passed when a 1d array was expected. Please change the shape of y to (n_samples, ), for example using ravel().\n",
            "  y = column_or_1d(y, warn=True)\n"
          ]
        },
        {
          "output_type": "stream",
          "name": "stdout",
          "text": [
            "[CV 3/3] END ........C=1, gamma=0.1, kernel=rbf;, score=0.992 total time=   0.4s\n"
          ]
        },
        {
          "output_type": "stream",
          "name": "stderr",
          "text": [
            "/usr/local/lib/python3.7/dist-packages/sklearn/utils/validation.py:993: DataConversionWarning: A column-vector y was passed when a 1d array was expected. Please change the shape of y to (n_samples, ), for example using ravel().\n",
            "  y = column_or_1d(y, warn=True)\n"
          ]
        },
        {
          "output_type": "stream",
          "name": "stdout",
          "text": [
            "[CV 1/3] END .......C=1, gamma=0.01, kernel=rbf;, score=0.992 total time=   0.4s\n"
          ]
        },
        {
          "output_type": "stream",
          "name": "stderr",
          "text": [
            "/usr/local/lib/python3.7/dist-packages/sklearn/utils/validation.py:993: DataConversionWarning: A column-vector y was passed when a 1d array was expected. Please change the shape of y to (n_samples, ), for example using ravel().\n",
            "  y = column_or_1d(y, warn=True)\n"
          ]
        },
        {
          "output_type": "stream",
          "name": "stdout",
          "text": [
            "[CV 2/3] END .......C=1, gamma=0.01, kernel=rbf;, score=0.998 total time=   0.5s\n"
          ]
        },
        {
          "output_type": "stream",
          "name": "stderr",
          "text": [
            "/usr/local/lib/python3.7/dist-packages/sklearn/utils/validation.py:993: DataConversionWarning: A column-vector y was passed when a 1d array was expected. Please change the shape of y to (n_samples, ), for example using ravel().\n",
            "  y = column_or_1d(y, warn=True)\n"
          ]
        },
        {
          "output_type": "stream",
          "name": "stdout",
          "text": [
            "[CV 3/3] END .......C=1, gamma=0.01, kernel=rbf;, score=0.988 total time=   0.5s\n"
          ]
        },
        {
          "output_type": "stream",
          "name": "stderr",
          "text": [
            "/usr/local/lib/python3.7/dist-packages/sklearn/utils/validation.py:993: DataConversionWarning: A column-vector y was passed when a 1d array was expected. Please change the shape of y to (n_samples, ), for example using ravel().\n",
            "  y = column_or_1d(y, warn=True)\n"
          ]
        },
        {
          "output_type": "stream",
          "name": "stdout",
          "text": [
            "[CV 1/3] END ......C=1, gamma=0.001, kernel=rbf;, score=0.507 total time=   0.6s\n"
          ]
        },
        {
          "output_type": "stream",
          "name": "stderr",
          "text": [
            "/usr/local/lib/python3.7/dist-packages/sklearn/utils/validation.py:993: DataConversionWarning: A column-vector y was passed when a 1d array was expected. Please change the shape of y to (n_samples, ), for example using ravel().\n",
            "  y = column_or_1d(y, warn=True)\n"
          ]
        },
        {
          "output_type": "stream",
          "name": "stdout",
          "text": [
            "[CV 2/3] END ......C=1, gamma=0.001, kernel=rbf;, score=0.213 total time=   0.6s\n"
          ]
        },
        {
          "output_type": "stream",
          "name": "stderr",
          "text": [
            "/usr/local/lib/python3.7/dist-packages/sklearn/utils/validation.py:993: DataConversionWarning: A column-vector y was passed when a 1d array was expected. Please change the shape of y to (n_samples, ), for example using ravel().\n",
            "  y = column_or_1d(y, warn=True)\n"
          ]
        },
        {
          "output_type": "stream",
          "name": "stdout",
          "text": [
            "[CV 3/3] END .....C=1, gamma=0.001, kernel=rbf;, score=-0.636 total time=   1.0s\n"
          ]
        },
        {
          "output_type": "stream",
          "name": "stderr",
          "text": [
            "/usr/local/lib/python3.7/dist-packages/sklearn/utils/validation.py:993: DataConversionWarning: A column-vector y was passed when a 1d array was expected. Please change the shape of y to (n_samples, ), for example using ravel().\n",
            "  y = column_or_1d(y, warn=True)\n"
          ]
        },
        {
          "output_type": "stream",
          "name": "stdout",
          "text": [
            "[CV 1/3] END .....C=1, gamma=0.0001, kernel=rbf;, score=0.040 total time=   0.6s\n"
          ]
        },
        {
          "output_type": "stream",
          "name": "stderr",
          "text": [
            "/usr/local/lib/python3.7/dist-packages/sklearn/utils/validation.py:993: DataConversionWarning: A column-vector y was passed when a 1d array was expected. Please change the shape of y to (n_samples, ), for example using ravel().\n",
            "  y = column_or_1d(y, warn=True)\n"
          ]
        },
        {
          "output_type": "stream",
          "name": "stdout",
          "text": [
            "[CV 2/3] END ....C=1, gamma=0.0001, kernel=rbf;, score=-0.119 total time=   0.6s\n"
          ]
        },
        {
          "output_type": "stream",
          "name": "stderr",
          "text": [
            "/usr/local/lib/python3.7/dist-packages/sklearn/utils/validation.py:993: DataConversionWarning: A column-vector y was passed when a 1d array was expected. Please change the shape of y to (n_samples, ), for example using ravel().\n",
            "  y = column_or_1d(y, warn=True)\n"
          ]
        },
        {
          "output_type": "stream",
          "name": "stdout",
          "text": [
            "[CV 3/3] END ....C=1, gamma=0.0001, kernel=rbf;, score=-3.624 total time=   0.9s\n"
          ]
        },
        {
          "output_type": "stream",
          "name": "stderr",
          "text": [
            "/usr/local/lib/python3.7/dist-packages/sklearn/utils/validation.py:993: DataConversionWarning: A column-vector y was passed when a 1d array was expected. Please change the shape of y to (n_samples, ), for example using ravel().\n",
            "  y = column_or_1d(y, warn=True)\n"
          ]
        },
        {
          "output_type": "stream",
          "name": "stdout",
          "text": [
            "[CV 1/3] END .........C=10, gamma=1, kernel=rbf;, score=0.893 total time=   0.9s\n"
          ]
        },
        {
          "output_type": "stream",
          "name": "stderr",
          "text": [
            "/usr/local/lib/python3.7/dist-packages/sklearn/utils/validation.py:993: DataConversionWarning: A column-vector y was passed when a 1d array was expected. Please change the shape of y to (n_samples, ), for example using ravel().\n",
            "  y = column_or_1d(y, warn=True)\n"
          ]
        },
        {
          "output_type": "stream",
          "name": "stdout",
          "text": [
            "[CV 2/3] END .........C=10, gamma=1, kernel=rbf;, score=0.825 total time=   0.5s\n"
          ]
        },
        {
          "output_type": "stream",
          "name": "stderr",
          "text": [
            "/usr/local/lib/python3.7/dist-packages/sklearn/utils/validation.py:993: DataConversionWarning: A column-vector y was passed when a 1d array was expected. Please change the shape of y to (n_samples, ), for example using ravel().\n",
            "  y = column_or_1d(y, warn=True)\n"
          ]
        },
        {
          "output_type": "stream",
          "name": "stdout",
          "text": [
            "[CV 3/3] END .........C=10, gamma=1, kernel=rbf;, score=0.792 total time=   1.0s\n"
          ]
        },
        {
          "output_type": "stream",
          "name": "stderr",
          "text": [
            "/usr/local/lib/python3.7/dist-packages/sklearn/utils/validation.py:993: DataConversionWarning: A column-vector y was passed when a 1d array was expected. Please change the shape of y to (n_samples, ), for example using ravel().\n",
            "  y = column_or_1d(y, warn=True)\n"
          ]
        },
        {
          "output_type": "stream",
          "name": "stdout",
          "text": [
            "[CV 1/3] END .......C=10, gamma=0.1, kernel=rbf;, score=0.995 total time=   0.4s\n"
          ]
        },
        {
          "output_type": "stream",
          "name": "stderr",
          "text": [
            "/usr/local/lib/python3.7/dist-packages/sklearn/utils/validation.py:993: DataConversionWarning: A column-vector y was passed when a 1d array was expected. Please change the shape of y to (n_samples, ), for example using ravel().\n",
            "  y = column_or_1d(y, warn=True)\n"
          ]
        },
        {
          "output_type": "stream",
          "name": "stdout",
          "text": [
            "[CV 2/3] END .......C=10, gamma=0.1, kernel=rbf;, score=0.998 total time=   0.4s\n"
          ]
        },
        {
          "output_type": "stream",
          "name": "stderr",
          "text": [
            "/usr/local/lib/python3.7/dist-packages/sklearn/utils/validation.py:993: DataConversionWarning: A column-vector y was passed when a 1d array was expected. Please change the shape of y to (n_samples, ), for example using ravel().\n",
            "  y = column_or_1d(y, warn=True)\n"
          ]
        },
        {
          "output_type": "stream",
          "name": "stdout",
          "text": [
            "[CV 3/3] END .......C=10, gamma=0.1, kernel=rbf;, score=0.992 total time=   0.5s\n"
          ]
        },
        {
          "output_type": "stream",
          "name": "stderr",
          "text": [
            "/usr/local/lib/python3.7/dist-packages/sklearn/utils/validation.py:993: DataConversionWarning: A column-vector y was passed when a 1d array was expected. Please change the shape of y to (n_samples, ), for example using ravel().\n",
            "  y = column_or_1d(y, warn=True)\n"
          ]
        },
        {
          "output_type": "stream",
          "name": "stdout",
          "text": [
            "[CV 1/3] END ......C=10, gamma=0.01, kernel=rbf;, score=0.993 total time=   0.3s\n"
          ]
        },
        {
          "output_type": "stream",
          "name": "stderr",
          "text": [
            "/usr/local/lib/python3.7/dist-packages/sklearn/utils/validation.py:993: DataConversionWarning: A column-vector y was passed when a 1d array was expected. Please change the shape of y to (n_samples, ), for example using ravel().\n",
            "  y = column_or_1d(y, warn=True)\n"
          ]
        },
        {
          "output_type": "stream",
          "name": "stdout",
          "text": [
            "[CV 2/3] END ......C=10, gamma=0.01, kernel=rbf;, score=0.998 total time=   0.4s\n"
          ]
        },
        {
          "output_type": "stream",
          "name": "stderr",
          "text": [
            "/usr/local/lib/python3.7/dist-packages/sklearn/utils/validation.py:993: DataConversionWarning: A column-vector y was passed when a 1d array was expected. Please change the shape of y to (n_samples, ), for example using ravel().\n",
            "  y = column_or_1d(y, warn=True)\n"
          ]
        },
        {
          "output_type": "stream",
          "name": "stdout",
          "text": [
            "[CV 3/3] END ......C=10, gamma=0.01, kernel=rbf;, score=0.993 total time=   0.4s\n"
          ]
        },
        {
          "output_type": "stream",
          "name": "stderr",
          "text": [
            "/usr/local/lib/python3.7/dist-packages/sklearn/utils/validation.py:993: DataConversionWarning: A column-vector y was passed when a 1d array was expected. Please change the shape of y to (n_samples, ), for example using ravel().\n",
            "  y = column_or_1d(y, warn=True)\n"
          ]
        },
        {
          "output_type": "stream",
          "name": "stdout",
          "text": [
            "[CV 1/3] END .....C=10, gamma=0.001, kernel=rbf;, score=0.992 total time=   0.5s\n"
          ]
        },
        {
          "output_type": "stream",
          "name": "stderr",
          "text": [
            "/usr/local/lib/python3.7/dist-packages/sklearn/utils/validation.py:993: DataConversionWarning: A column-vector y was passed when a 1d array was expected. Please change the shape of y to (n_samples, ), for example using ravel().\n",
            "  y = column_or_1d(y, warn=True)\n"
          ]
        },
        {
          "output_type": "stream",
          "name": "stdout",
          "text": [
            "[CV 2/3] END .....C=10, gamma=0.001, kernel=rbf;, score=0.998 total time=   0.5s\n"
          ]
        },
        {
          "output_type": "stream",
          "name": "stderr",
          "text": [
            "/usr/local/lib/python3.7/dist-packages/sklearn/utils/validation.py:993: DataConversionWarning: A column-vector y was passed when a 1d array was expected. Please change the shape of y to (n_samples, ), for example using ravel().\n",
            "  y = column_or_1d(y, warn=True)\n"
          ]
        },
        {
          "output_type": "stream",
          "name": "stdout",
          "text": [
            "[CV 3/3] END .....C=10, gamma=0.001, kernel=rbf;, score=0.988 total time=   0.5s\n"
          ]
        },
        {
          "output_type": "stream",
          "name": "stderr",
          "text": [
            "/usr/local/lib/python3.7/dist-packages/sklearn/utils/validation.py:993: DataConversionWarning: A column-vector y was passed when a 1d array was expected. Please change the shape of y to (n_samples, ), for example using ravel().\n",
            "  y = column_or_1d(y, warn=True)\n"
          ]
        },
        {
          "output_type": "stream",
          "name": "stdout",
          "text": [
            "[CV 1/3] END ....C=10, gamma=0.0001, kernel=rbf;, score=0.510 total time=   0.7s\n"
          ]
        },
        {
          "output_type": "stream",
          "name": "stderr",
          "text": [
            "/usr/local/lib/python3.7/dist-packages/sklearn/utils/validation.py:993: DataConversionWarning: A column-vector y was passed when a 1d array was expected. Please change the shape of y to (n_samples, ), for example using ravel().\n",
            "  y = column_or_1d(y, warn=True)\n"
          ]
        },
        {
          "output_type": "stream",
          "name": "stdout",
          "text": [
            "[CV 2/3] END ....C=10, gamma=0.0001, kernel=rbf;, score=0.215 total time=   0.6s\n"
          ]
        },
        {
          "output_type": "stream",
          "name": "stderr",
          "text": [
            "/usr/local/lib/python3.7/dist-packages/sklearn/utils/validation.py:993: DataConversionWarning: A column-vector y was passed when a 1d array was expected. Please change the shape of y to (n_samples, ), for example using ravel().\n",
            "  y = column_or_1d(y, warn=True)\n"
          ]
        },
        {
          "output_type": "stream",
          "name": "stdout",
          "text": [
            "[CV 3/3] END ...C=10, gamma=0.0001, kernel=rbf;, score=-0.620 total time=   1.0s\n"
          ]
        },
        {
          "output_type": "stream",
          "name": "stderr",
          "text": [
            "/usr/local/lib/python3.7/dist-packages/sklearn/utils/validation.py:993: DataConversionWarning: A column-vector y was passed when a 1d array was expected. Please change the shape of y to (n_samples, ), for example using ravel().\n",
            "  y = column_or_1d(y, warn=True)\n"
          ]
        },
        {
          "output_type": "stream",
          "name": "stdout",
          "text": [
            "[CV 1/3] END ........C=100, gamma=1, kernel=rbf;, score=0.893 total time=   0.9s\n"
          ]
        },
        {
          "output_type": "stream",
          "name": "stderr",
          "text": [
            "/usr/local/lib/python3.7/dist-packages/sklearn/utils/validation.py:993: DataConversionWarning: A column-vector y was passed when a 1d array was expected. Please change the shape of y to (n_samples, ), for example using ravel().\n",
            "  y = column_or_1d(y, warn=True)\n"
          ]
        },
        {
          "output_type": "stream",
          "name": "stdout",
          "text": [
            "[CV 2/3] END ........C=100, gamma=1, kernel=rbf;, score=0.825 total time=   0.5s\n"
          ]
        },
        {
          "output_type": "stream",
          "name": "stderr",
          "text": [
            "/usr/local/lib/python3.7/dist-packages/sklearn/utils/validation.py:993: DataConversionWarning: A column-vector y was passed when a 1d array was expected. Please change the shape of y to (n_samples, ), for example using ravel().\n",
            "  y = column_or_1d(y, warn=True)\n"
          ]
        },
        {
          "output_type": "stream",
          "name": "stdout",
          "text": [
            "[CV 3/3] END ........C=100, gamma=1, kernel=rbf;, score=0.792 total time=   1.0s\n"
          ]
        },
        {
          "output_type": "stream",
          "name": "stderr",
          "text": [
            "/usr/local/lib/python3.7/dist-packages/sklearn/utils/validation.py:993: DataConversionWarning: A column-vector y was passed when a 1d array was expected. Please change the shape of y to (n_samples, ), for example using ravel().\n",
            "  y = column_or_1d(y, warn=True)\n"
          ]
        },
        {
          "output_type": "stream",
          "name": "stdout",
          "text": [
            "[CV 1/3] END ......C=100, gamma=0.1, kernel=rbf;, score=0.995 total time=   0.4s\n"
          ]
        },
        {
          "output_type": "stream",
          "name": "stderr",
          "text": [
            "/usr/local/lib/python3.7/dist-packages/sklearn/utils/validation.py:993: DataConversionWarning: A column-vector y was passed when a 1d array was expected. Please change the shape of y to (n_samples, ), for example using ravel().\n",
            "  y = column_or_1d(y, warn=True)\n"
          ]
        },
        {
          "output_type": "stream",
          "name": "stdout",
          "text": [
            "[CV 2/3] END ......C=100, gamma=0.1, kernel=rbf;, score=0.998 total time=   0.4s\n"
          ]
        },
        {
          "output_type": "stream",
          "name": "stderr",
          "text": [
            "/usr/local/lib/python3.7/dist-packages/sklearn/utils/validation.py:993: DataConversionWarning: A column-vector y was passed when a 1d array was expected. Please change the shape of y to (n_samples, ), for example using ravel().\n",
            "  y = column_or_1d(y, warn=True)\n"
          ]
        },
        {
          "output_type": "stream",
          "name": "stdout",
          "text": [
            "[CV 3/3] END ......C=100, gamma=0.1, kernel=rbf;, score=0.992 total time=   0.5s\n"
          ]
        },
        {
          "output_type": "stream",
          "name": "stderr",
          "text": [
            "/usr/local/lib/python3.7/dist-packages/sklearn/utils/validation.py:993: DataConversionWarning: A column-vector y was passed when a 1d array was expected. Please change the shape of y to (n_samples, ), for example using ravel().\n",
            "  y = column_or_1d(y, warn=True)\n"
          ]
        },
        {
          "output_type": "stream",
          "name": "stdout",
          "text": [
            "[CV 1/3] END .....C=100, gamma=0.01, kernel=rbf;, score=0.993 total time=   0.3s\n"
          ]
        },
        {
          "output_type": "stream",
          "name": "stderr",
          "text": [
            "/usr/local/lib/python3.7/dist-packages/sklearn/utils/validation.py:993: DataConversionWarning: A column-vector y was passed when a 1d array was expected. Please change the shape of y to (n_samples, ), for example using ravel().\n",
            "  y = column_or_1d(y, warn=True)\n"
          ]
        },
        {
          "output_type": "stream",
          "name": "stdout",
          "text": [
            "[CV 2/3] END .....C=100, gamma=0.01, kernel=rbf;, score=0.998 total time=   0.4s\n"
          ]
        },
        {
          "output_type": "stream",
          "name": "stderr",
          "text": [
            "/usr/local/lib/python3.7/dist-packages/sklearn/utils/validation.py:993: DataConversionWarning: A column-vector y was passed when a 1d array was expected. Please change the shape of y to (n_samples, ), for example using ravel().\n",
            "  y = column_or_1d(y, warn=True)\n"
          ]
        },
        {
          "output_type": "stream",
          "name": "stdout",
          "text": [
            "[CV 3/3] END .....C=100, gamma=0.01, kernel=rbf;, score=0.993 total time=   0.4s\n"
          ]
        },
        {
          "output_type": "stream",
          "name": "stderr",
          "text": [
            "/usr/local/lib/python3.7/dist-packages/sklearn/utils/validation.py:993: DataConversionWarning: A column-vector y was passed when a 1d array was expected. Please change the shape of y to (n_samples, ), for example using ravel().\n",
            "  y = column_or_1d(y, warn=True)\n"
          ]
        },
        {
          "output_type": "stream",
          "name": "stdout",
          "text": [
            "[CV 1/3] END ....C=100, gamma=0.001, kernel=rbf;, score=0.993 total time=   0.3s\n"
          ]
        },
        {
          "output_type": "stream",
          "name": "stderr",
          "text": [
            "/usr/local/lib/python3.7/dist-packages/sklearn/utils/validation.py:993: DataConversionWarning: A column-vector y was passed when a 1d array was expected. Please change the shape of y to (n_samples, ), for example using ravel().\n",
            "  y = column_or_1d(y, warn=True)\n"
          ]
        },
        {
          "output_type": "stream",
          "name": "stdout",
          "text": [
            "[CV 2/3] END ....C=100, gamma=0.001, kernel=rbf;, score=0.998 total time=   0.4s\n"
          ]
        },
        {
          "output_type": "stream",
          "name": "stderr",
          "text": [
            "/usr/local/lib/python3.7/dist-packages/sklearn/utils/validation.py:993: DataConversionWarning: A column-vector y was passed when a 1d array was expected. Please change the shape of y to (n_samples, ), for example using ravel().\n",
            "  y = column_or_1d(y, warn=True)\n"
          ]
        },
        {
          "output_type": "stream",
          "name": "stdout",
          "text": [
            "[CV 3/3] END ....C=100, gamma=0.001, kernel=rbf;, score=0.994 total time=   0.4s\n"
          ]
        },
        {
          "output_type": "stream",
          "name": "stderr",
          "text": [
            "/usr/local/lib/python3.7/dist-packages/sklearn/utils/validation.py:993: DataConversionWarning: A column-vector y was passed when a 1d array was expected. Please change the shape of y to (n_samples, ), for example using ravel().\n",
            "  y = column_or_1d(y, warn=True)\n"
          ]
        },
        {
          "output_type": "stream",
          "name": "stdout",
          "text": [
            "[CV 1/3] END ...C=100, gamma=0.0001, kernel=rbf;, score=0.992 total time=   0.4s\n"
          ]
        },
        {
          "output_type": "stream",
          "name": "stderr",
          "text": [
            "/usr/local/lib/python3.7/dist-packages/sklearn/utils/validation.py:993: DataConversionWarning: A column-vector y was passed when a 1d array was expected. Please change the shape of y to (n_samples, ), for example using ravel().\n",
            "  y = column_or_1d(y, warn=True)\n"
          ]
        },
        {
          "output_type": "stream",
          "name": "stdout",
          "text": [
            "[CV 2/3] END ...C=100, gamma=0.0001, kernel=rbf;, score=0.998 total time=   0.5s\n"
          ]
        },
        {
          "output_type": "stream",
          "name": "stderr",
          "text": [
            "/usr/local/lib/python3.7/dist-packages/sklearn/utils/validation.py:993: DataConversionWarning: A column-vector y was passed when a 1d array was expected. Please change the shape of y to (n_samples, ), for example using ravel().\n",
            "  y = column_or_1d(y, warn=True)\n"
          ]
        },
        {
          "output_type": "stream",
          "name": "stdout",
          "text": [
            "[CV 3/3] END ...C=100, gamma=0.0001, kernel=rbf;, score=0.988 total time=   0.5s\n"
          ]
        },
        {
          "output_type": "stream",
          "name": "stderr",
          "text": [
            "/usr/local/lib/python3.7/dist-packages/sklearn/utils/validation.py:993: DataConversionWarning: A column-vector y was passed when a 1d array was expected. Please change the shape of y to (n_samples, ), for example using ravel().\n",
            "  y = column_or_1d(y, warn=True)\n"
          ]
        },
        {
          "output_type": "stream",
          "name": "stdout",
          "text": [
            "[CV 1/3] END .......C=1000, gamma=1, kernel=rbf;, score=0.893 total time=   0.9s\n"
          ]
        },
        {
          "output_type": "stream",
          "name": "stderr",
          "text": [
            "/usr/local/lib/python3.7/dist-packages/sklearn/utils/validation.py:993: DataConversionWarning: A column-vector y was passed when a 1d array was expected. Please change the shape of y to (n_samples, ), for example using ravel().\n",
            "  y = column_or_1d(y, warn=True)\n"
          ]
        },
        {
          "output_type": "stream",
          "name": "stdout",
          "text": [
            "[CV 2/3] END .......C=1000, gamma=1, kernel=rbf;, score=0.825 total time=   0.5s\n"
          ]
        },
        {
          "output_type": "stream",
          "name": "stderr",
          "text": [
            "/usr/local/lib/python3.7/dist-packages/sklearn/utils/validation.py:993: DataConversionWarning: A column-vector y was passed when a 1d array was expected. Please change the shape of y to (n_samples, ), for example using ravel().\n",
            "  y = column_or_1d(y, warn=True)\n"
          ]
        },
        {
          "output_type": "stream",
          "name": "stdout",
          "text": [
            "[CV 3/3] END .......C=1000, gamma=1, kernel=rbf;, score=0.792 total time=   0.9s\n"
          ]
        },
        {
          "output_type": "stream",
          "name": "stderr",
          "text": [
            "/usr/local/lib/python3.7/dist-packages/sklearn/utils/validation.py:993: DataConversionWarning: A column-vector y was passed when a 1d array was expected. Please change the shape of y to (n_samples, ), for example using ravel().\n",
            "  y = column_or_1d(y, warn=True)\n"
          ]
        },
        {
          "output_type": "stream",
          "name": "stdout",
          "text": [
            "[CV 1/3] END .....C=1000, gamma=0.1, kernel=rbf;, score=0.995 total time=   0.3s\n"
          ]
        },
        {
          "output_type": "stream",
          "name": "stderr",
          "text": [
            "/usr/local/lib/python3.7/dist-packages/sklearn/utils/validation.py:993: DataConversionWarning: A column-vector y was passed when a 1d array was expected. Please change the shape of y to (n_samples, ), for example using ravel().\n",
            "  y = column_or_1d(y, warn=True)\n"
          ]
        },
        {
          "output_type": "stream",
          "name": "stdout",
          "text": [
            "[CV 2/3] END .....C=1000, gamma=0.1, kernel=rbf;, score=0.998 total time=   0.4s\n"
          ]
        },
        {
          "output_type": "stream",
          "name": "stderr",
          "text": [
            "/usr/local/lib/python3.7/dist-packages/sklearn/utils/validation.py:993: DataConversionWarning: A column-vector y was passed when a 1d array was expected. Please change the shape of y to (n_samples, ), for example using ravel().\n",
            "  y = column_or_1d(y, warn=True)\n"
          ]
        },
        {
          "output_type": "stream",
          "name": "stdout",
          "text": [
            "[CV 3/3] END .....C=1000, gamma=0.1, kernel=rbf;, score=0.992 total time=   0.4s\n"
          ]
        },
        {
          "output_type": "stream",
          "name": "stderr",
          "text": [
            "/usr/local/lib/python3.7/dist-packages/sklearn/utils/validation.py:993: DataConversionWarning: A column-vector y was passed when a 1d array was expected. Please change the shape of y to (n_samples, ), for example using ravel().\n",
            "  y = column_or_1d(y, warn=True)\n"
          ]
        },
        {
          "output_type": "stream",
          "name": "stdout",
          "text": [
            "[CV 1/3] END ....C=1000, gamma=0.01, kernel=rbf;, score=0.993 total time=   0.3s\n"
          ]
        },
        {
          "output_type": "stream",
          "name": "stderr",
          "text": [
            "/usr/local/lib/python3.7/dist-packages/sklearn/utils/validation.py:993: DataConversionWarning: A column-vector y was passed when a 1d array was expected. Please change the shape of y to (n_samples, ), for example using ravel().\n",
            "  y = column_or_1d(y, warn=True)\n"
          ]
        },
        {
          "output_type": "stream",
          "name": "stdout",
          "text": [
            "[CV 2/3] END ....C=1000, gamma=0.01, kernel=rbf;, score=0.998 total time=   0.4s\n"
          ]
        },
        {
          "output_type": "stream",
          "name": "stderr",
          "text": [
            "/usr/local/lib/python3.7/dist-packages/sklearn/utils/validation.py:993: DataConversionWarning: A column-vector y was passed when a 1d array was expected. Please change the shape of y to (n_samples, ), for example using ravel().\n",
            "  y = column_or_1d(y, warn=True)\n"
          ]
        },
        {
          "output_type": "stream",
          "name": "stdout",
          "text": [
            "[CV 3/3] END ....C=1000, gamma=0.01, kernel=rbf;, score=0.993 total time=   0.4s\n"
          ]
        },
        {
          "output_type": "stream",
          "name": "stderr",
          "text": [
            "/usr/local/lib/python3.7/dist-packages/sklearn/utils/validation.py:993: DataConversionWarning: A column-vector y was passed when a 1d array was expected. Please change the shape of y to (n_samples, ), for example using ravel().\n",
            "  y = column_or_1d(y, warn=True)\n"
          ]
        },
        {
          "output_type": "stream",
          "name": "stdout",
          "text": [
            "[CV 1/3] END ...C=1000, gamma=0.001, kernel=rbf;, score=0.993 total time=   0.3s\n"
          ]
        },
        {
          "output_type": "stream",
          "name": "stderr",
          "text": [
            "/usr/local/lib/python3.7/dist-packages/sklearn/utils/validation.py:993: DataConversionWarning: A column-vector y was passed when a 1d array was expected. Please change the shape of y to (n_samples, ), for example using ravel().\n",
            "  y = column_or_1d(y, warn=True)\n"
          ]
        },
        {
          "output_type": "stream",
          "name": "stdout",
          "text": [
            "[CV 2/3] END ...C=1000, gamma=0.001, kernel=rbf;, score=0.998 total time=   0.4s\n"
          ]
        },
        {
          "output_type": "stream",
          "name": "stderr",
          "text": [
            "/usr/local/lib/python3.7/dist-packages/sklearn/utils/validation.py:993: DataConversionWarning: A column-vector y was passed when a 1d array was expected. Please change the shape of y to (n_samples, ), for example using ravel().\n",
            "  y = column_or_1d(y, warn=True)\n"
          ]
        },
        {
          "output_type": "stream",
          "name": "stdout",
          "text": [
            "[CV 3/3] END ...C=1000, gamma=0.001, kernel=rbf;, score=0.994 total time=   0.4s\n"
          ]
        },
        {
          "output_type": "stream",
          "name": "stderr",
          "text": [
            "/usr/local/lib/python3.7/dist-packages/sklearn/utils/validation.py:993: DataConversionWarning: A column-vector y was passed when a 1d array was expected. Please change the shape of y to (n_samples, ), for example using ravel().\n",
            "  y = column_or_1d(y, warn=True)\n"
          ]
        },
        {
          "output_type": "stream",
          "name": "stdout",
          "text": [
            "[CV 1/3] END ..C=1000, gamma=0.0001, kernel=rbf;, score=0.993 total time=   0.3s\n"
          ]
        },
        {
          "output_type": "stream",
          "name": "stderr",
          "text": [
            "/usr/local/lib/python3.7/dist-packages/sklearn/utils/validation.py:993: DataConversionWarning: A column-vector y was passed when a 1d array was expected. Please change the shape of y to (n_samples, ), for example using ravel().\n",
            "  y = column_or_1d(y, warn=True)\n"
          ]
        },
        {
          "output_type": "stream",
          "name": "stdout",
          "text": [
            "[CV 2/3] END ..C=1000, gamma=0.0001, kernel=rbf;, score=0.998 total time=   0.4s\n"
          ]
        },
        {
          "output_type": "stream",
          "name": "stderr",
          "text": [
            "/usr/local/lib/python3.7/dist-packages/sklearn/utils/validation.py:993: DataConversionWarning: A column-vector y was passed when a 1d array was expected. Please change the shape of y to (n_samples, ), for example using ravel().\n",
            "  y = column_or_1d(y, warn=True)\n"
          ]
        },
        {
          "output_type": "stream",
          "name": "stdout",
          "text": [
            "[CV 3/3] END ..C=1000, gamma=0.0001, kernel=rbf;, score=0.994 total time=   0.4s\n"
          ]
        },
        {
          "output_type": "stream",
          "name": "stderr",
          "text": [
            "/usr/local/lib/python3.7/dist-packages/sklearn/utils/validation.py:993: DataConversionWarning: A column-vector y was passed when a 1d array was expected. Please change the shape of y to (n_samples, ), for example using ravel().\n",
            "  y = column_or_1d(y, warn=True)\n"
          ]
        },
        {
          "output_type": "stream",
          "name": "stdout",
          "text": [
            "{'C': 1000, 'gamma': 0.001, 'kernel': 'rbf'}\n",
            "SVR(C=1000, gamma=0.001)\n"
          ]
        }
      ]
    },
    {
      "cell_type": "code",
      "source": [
        "#SVR using best parameters\n",
        "from sklearn.svm import SVR\n",
        "\n",
        "regressor = SVR(kernel='rbf', C=100, gamma=0.0001)\n",
        "regressor.fit(X_train,y_train)\n",
        "#y_pred_svr = regressor.predict(X_test)"
      ],
      "metadata": {
        "colab": {
          "base_uri": "https://localhost:8080/"
        },
        "id": "tvtxl6rZfzqN",
        "outputId": "45bb28b3-b7e0-486c-9b08-a752cb275fb8"
      },
      "execution_count": null,
      "outputs": [
        {
          "output_type": "stream",
          "name": "stderr",
          "text": [
            "/usr/local/lib/python3.7/dist-packages/sklearn/utils/validation.py:993: DataConversionWarning: A column-vector y was passed when a 1d array was expected. Please change the shape of y to (n_samples, ), for example using ravel().\n",
            "  y = column_or_1d(y, warn=True)\n"
          ]
        },
        {
          "output_type": "execute_result",
          "data": {
            "text/plain": [
              "SVR(C=100, gamma=0.0001)"
            ]
          },
          "metadata": {},
          "execution_count": 17
        }
      ]
    },
    {
      "cell_type": "code",
      "source": [
        "#Generate plot and R2\n",
        "from sklearn.metrics import r2_score\n",
        "\n",
        "print(r2_score(y_test,regressor.predict(X_test)))\n",
        "\n",
        "plt.scatter(range(len(X_train)), y_train, s = 1, color = 'blue',label='original')\n",
        "plt.plot(range(len(X_train)), regressor.predict(X_train), color = 'red',label='SVR')\n",
        "plt.title('Magnitude_SVR')\n",
        "plt.xlabel('Magnitude')\n",
        "plt.ylabel('PPB')\n",
        "plt.legend()\n",
        "plt.show()"
      ],
      "metadata": {
        "colab": {
          "base_uri": "https://localhost:8080/",
          "height": 314
        },
        "id": "LNgC-1BfjxEs",
        "outputId": "bdc2105e-5937-4226-bfe8-02690c3e4082"
      },
      "execution_count": null,
      "outputs": [
        {
          "output_type": "stream",
          "name": "stdout",
          "text": [
            "0.9993488073767094\n"
          ]
        },
        {
          "output_type": "display_data",
          "data": {
            "text/plain": [
              "<Figure size 432x288 with 1 Axes>"
            ],
            "image/png": "[encoded data removed]"
          },
          "metadata": {
            "needs_background": "light"
          }
        }
      ]
    },
    {
      "cell_type": "code",
      "source": [
        "s = \"anagram\"\n",
        "t = \"nagaram\"\n",
        "sorted(s)\n",
        "Counter(s)"
      ],
      "metadata": {
        "colab": {
          "base_uri": "https://localhost:8080/",
          "height": 213
        },
        "id": "CxSw0CqWKD6N",
        "outputId": "609ab868-99eb-49f7-8cf3-ae50169b4f8b"
      },
      "execution_count": null,
      "outputs": [
        {
          "output_type": "error",
          "ename": "NameError",
          "evalue": "ignored",
          "traceback": [
            "\u001b[0;31m---------------------------------------------------------------------------\u001b[0m",
            "\u001b[0;31mNameError\u001b[0m                                 Traceback (most recent call last)",
            "\u001b[0;32m<ipython-input-5-993938b6558c>\u001b[0m in \u001b[0;36m<module>\u001b[0;34m()\u001b[0m\n\u001b[1;32m      2\u001b[0m \u001b[0mt\u001b[0m \u001b[0;34m=\u001b[0m \u001b[0;34m\"nagaram\"\u001b[0m\u001b[0;34m\u001b[0m\u001b[0;34m\u001b[0m\u001b[0m\n\u001b[1;32m      3\u001b[0m \u001b[0msorted\u001b[0m\u001b[0;34m(\u001b[0m\u001b[0ms\u001b[0m\u001b[0;34m)\u001b[0m\u001b[0;34m\u001b[0m\u001b[0;34m\u001b[0m\u001b[0m\n\u001b[0;32m----> 4\u001b[0;31m \u001b[0mCounter\u001b[0m\u001b[0;34m(\u001b[0m\u001b[0ms\u001b[0m\u001b[0;34m)\u001b[0m\u001b[0;34m\u001b[0m\u001b[0;34m\u001b[0m\u001b[0m\n\u001b[0m",
            "\u001b[0;31mNameError\u001b[0m: name 'Counter' is not defined"
          ]
        }
      ]
    }
  ]
}
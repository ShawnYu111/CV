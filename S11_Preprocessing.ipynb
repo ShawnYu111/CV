{
  "nbformat": 4,
  "nbformat_minor": 0,
  "metadata": {
    "colab": {
      "provenance": [],
      "machine_shape": "hm",
      "mount_file_id": "11axQVMayKJByL-xkOsi-wUx5xQkNvxkF",
      "authorship_tag": "ABX9TyNps1hjTYunE6jJehB5HNKI",
      "include_colab_link": true
    },
    "kernelspec": {
      "name": "python3",
      "display_name": "Python 3"
    },
    "language_info": {
      "name": "python"
    },
    "accelerator": "GPU"
  },
  "cells": [
    {
      "cell_type": "markdown",
      "metadata": {
        "id": "view-in-github",
        "colab_type": "text"
      },
      "source": [
        "<a href=\"https://colab.research.google.com/github/ShawnYu111/CV/blob/main/S11_Preprocessing.ipynb\" target=\"_parent\"><img src=\"https://colab.research.google.com/assets/colab-badge.svg\" alt=\"Open In Colab\"/></a>"
      ]
    },
    {
      "cell_type": "code",
      "source": [
        "from google.colab import drive\n",
        "drive.mount('/content/drive')\n",
        "import numpy as np # Version 1.16.0\n",
        "import tensorflow as tf # Version 1.12.0\n",
        "import pandas as pd\n",
        "import keras # Version 2.2.4\n",
        "from sklearn.metrics import r2_score\n",
        "from itertools import islice\n",
        "import re\n",
        "from pandas.core.frame import DataFrame"
      ],
      "metadata": {
        "id": "e-7ohE0CShuZ",
        "colab": {
          "base_uri": "https://localhost:8080/"
        },
        "outputId": "e2dfd8a9-9995-4cb2-adaa-e501ecf64c4b"
      },
      "execution_count": null,
      "outputs": [
        {
          "output_type": "stream",
          "name": "stdout",
          "text": [
            "Drive already mounted at /content/drive; to attempt to forcibly remount, call drive.mount(\"/content/drive\", force_remount=True).\n"
          ]
        }
      ]
    },
    {
      "cell_type": "code",
      "source": [
        "#import the name of files as a list\n",
        "from glob import glob\n",
        "files = glob(r'/content/drive/MyDrive/Test_621/Train/*.s1p')\n",
        "files.sort()\n",
        "print(len(files))\n",
        "files"
      ],
      "metadata": {
        "id": "By3u-8l8OfiM"
      },
      "execution_count": null,
      "outputs": []
    },
    {
      "cell_type": "code",
      "source": [
        "from pandas.core.frame import DataFrame\n",
        "a = []\n",
        "b = []\n",
        "b = DataFrame(b)\n",
        "file_index = 0\n",
        "i = 0\n",
        "j = 0\n",
        "\n",
        "\n",
        "\n",
        "#########################################################################\n",
        "\n",
        "#Custom parameters\n",
        "len_rawdata = 20000          #0.1-8GHz: 20000     0.1-6GHz: 14935\n",
        "downsampling = 8             #Downsample the data from 20000 rows\n",
        "factor = 1                   #Magnitude: 1        Phase: 2\n",
        "\n",
        "#########################################################################\n",
        "\n",
        "\n",
        "\n",
        "for file in files:\n",
        "  #cut first 5 useless rows\n",
        "  rawdata = pd.read_csv(file, skiprows=5, delimiter=\"\\t\", header=None)\n",
        "\n",
        "  #pick one row out of 8 rows, since the upper limit of columns is 16384\n",
        "  for j in range(0,len_rawdata,downsampling):\n",
        "    a.append(j)\n",
        "  data = rawdata.iloc[a]\n",
        "  data = DataFrame(data)\n",
        "  data.reset_index(drop=True,inplace=True)\n",
        "\n",
        "  #Let new magnitude or phase table be the feature vector, for all files\n",
        "  for i in range(0,len(data)):\n",
        "    b.loc[file_index,i] = data.loc[i,factor]\n",
        "    i = i + 1\n",
        "  file_index = file_index + 1\n",
        "  a = []\n",
        "\n",
        "\n",
        "print(b.head())\n",
        "print(b.shape)\n",
        "#Output files\n",
        "#b.to_csv('/content/drive/MyDrive/Test/Pb/test_Cu_magnitude.csv',index=False)\n",
        "b.to_csv('X_train.csv',index=False)\n"
      ],
      "metadata": {
        "id": "PRfYyEKttiHZ"
      },
      "execution_count": null,
      "outputs": []
    },
    {
      "cell_type": "code",
      "source": [
        "#define Y, ppb for regression, PbCu for classification\n",
        "Y_ppb = []\n",
        "Y_PbCu = []\n",
        "Y_ppb = DataFrame(Y_ppb)\n",
        "Y_PbCu = DataFrame(Y_PbCu)\n",
        "i = 0\n",
        "\n",
        "#add column\n",
        "Y_ppb['ppb'] = ''\n",
        "Y_PbCu['result'] = ''\n",
        "\n",
        "for file in files:\n",
        "\n",
        "  #read ppb value\n",
        "  s = re.findall(\"\\d+\",file)\n",
        "  s = s[len(s) - 3]\n",
        "  Y_ppb.loc[i,'ppb'] = s\n",
        "\n",
        "  #Cu = 0, Pb = 1\n",
        "  b = re.findall(\"(Cu|Pb)\",file)\n",
        "  b = ''.join(b)\n",
        "  if b == 'Cu':\n",
        "    result = 0\n",
        "  else:\n",
        "    result = 1\n",
        "  Y_PbCu.loc[i,'result'] = result\n",
        "  i = i + 1\n",
        "\n",
        "#print(Y_ppb.head())\n",
        "print(Y_ppb.shape)\n",
        "\n",
        "#Y_ppb.to_csv('/content/drive/MyDrive/Test/Pb/y_ppb_Pb.csv',index=False)\n",
        "#Y_PbCu.to_csv('Y_PbCu2.csv',index=False)\n",
        "Y_ppb.to_csv('y_train.csv',index=False)\n",
        ""
      ],
      "metadata": {
        "id": "e5JgvkdFVvVo",
        "colab": {
          "base_uri": "https://localhost:8080/"
        },
        "outputId": "29cbd1d5-aa7a-42f5-d4fc-251e9d79afb8"
      },
      "execution_count": null,
      "outputs": [
        {
          "output_type": "stream",
          "name": "stdout",
          "text": [
            "(60, 1)\n"
          ]
        }
      ]
    },
    {
      "cell_type": "code",
      "source": [
        "s = re.findall(\"\\d+\",file)\n",
        "print(s)\n",
        "print(s[len(s)-3])\n"
      ],
      "metadata": {
        "colab": {
          "base_uri": "https://localhost:8080/"
        },
        "id": "IeJ8qHVrx4_p",
        "outputId": "1c4ddc6f-9e3f-4f34-882c-68f83aebd72c"
      },
      "execution_count": null,
      "outputs": [
        {
          "output_type": "stream",
          "name": "stdout",
          "text": [
            "['621', '10', '0', '10080', '1']\n",
            "0\n"
          ]
        }
      ]
    }
  ]
}